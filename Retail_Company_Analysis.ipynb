{
 "cells": [
  {
   "cell_type": "markdown",
   "id": "499e1ef4-4b1a-4d6f-9c71-a7a6b12076a2",
   "metadata": {},
   "source": [
    "## Task 1: Sales Data Summary\n",
    "\n",
    "Objective: XYZ Retail wants to automate the process of calculating basic sales metrics.\n",
    "\n",
    "Ø Assign the number of units sold in two categories, `Category A` and `Category B`, to variables.\n",
    "\n",
    "Ø Calculate the total units sold, the difference between the categories, and the ratio of units sold.\n",
    "\n",
    "Ø Print these results clearly for the management team."
   ]
  },
  {
   "cell_type": "code",
   "execution_count": 6,
   "id": "80c3eff3-36b6-4dfc-98a8-7eeff3201d2f",
   "metadata": {},
   "outputs": [
    {
     "name": "stdout",
     "output_type": "stream",
     "text": [
      "Revenue Data Summary:\n",
      "\n",
      "Total Revenue: $4,500\n",
      "Revenue Difference Between Categories: $500\n",
      "Category A Contribution: 55.55555555555556%\n",
      "Category B Contribution: 44.44444444444444%\n"
     ]
    }
   ],
   "source": [
    "# Assigning revenue values\n",
    "category_a_revenue = 2500\n",
    "category_b_revenue = 2000\n",
    "\n",
    "# Calculating total revenue\n",
    "total_revenue = category_a_revenue + category_b_revenue\n",
    "\n",
    "# Calculating difference in revenue\n",
    "revenue_difference = abs(category_a_revenue - category_b_revenue)\n",
    "\n",
    "# Calculating percentage contribution\n",
    "category_a_percentage = (category_a_revenue / total_revenue) * 100\n",
    "category_b_percentage = (category_b_revenue / total_revenue) * 100\n",
    "\n",
    "# Printing results\n",
    "print(\"Revenue Data Summary:\\n\")\n",
    "print(f\"Total Revenue: ${total_revenue:,}\")\n",
    "print(f\"Revenue Difference Between Categories: ${revenue_difference:,}\")\n",
    "print(f\"Category A Contribution: {category_a_percentage:}%\")\n",
    "print(f\"Category B Contribution: {category_b_percentage:}%\")"
   ]
  },
  {
   "cell_type": "markdown",
   "id": "db6a9756-8cd2-405b-8dc6-4c6c8beaf2e5",
   "metadata": {},
   "source": [
    "## Task 2: Customer Age Data\n",
    "\n",
    "Objective: Understanding the age distribution of customers is crucial for marketing strategies.\n",
    "\n",
    "Ø Store a customer's name and age.\n",
    "\n",
    "Ø Convert the age into a string and create a personalized marketing message like \"Dear John Doe, at 30, you’re eligible for our premium loyalty program.\"\n",
    "\n",
    "   - Print the message for use in email campaigns."
   ]
  },
  {
   "cell_type": "code",
   "execution_count": 20,
   "id": "5663f6e6-eb25-4256-887d-e45dc1915f20",
   "metadata": {},
   "outputs": [
    {
     "name": "stdout",
     "output_type": "stream",
     "text": [
      "Dear John Doe, at 30, you’re eligible for our premium loyalty program.\n"
     ]
    }
   ],
   "source": [
    "\n",
    "# Storing customer information\n",
    "customer_name = \"John Doe\"\n",
    "customer_age = 30\n",
    "\n",
    "# Converting age to a string\n",
    "customer_age_str = str(customer_age)\n",
    "\n",
    "# Creating a personalized marketing message\n",
    "marketing_message = f\"Dear {customer_name}, at {customer_age_str}, you’re eligible for our premium loyalty program.\"\n",
    "\n",
    "# Printing the message\n",
    "print(marketing_message)"
   ]
  },
  {
   "cell_type": "markdown",
   "id": "d20efc7b-df24-4f36-bb36-a3c98156c129",
   "metadata": {},
   "source": [
    "## Task 3: Product List Management\n",
    "\n",
    "Objective: Efficient management of the product list is essential for inventory control.\n",
    "\n",
    "Ø Given a list of product prices, extract the highest and lowest prices.\n",
    "\n",
    "Ø Create a new list with the mid-range products.\n",
    "\n",
    "Ø Add a new premium product price to the list and print the updated list for the inventory team."
   ]
  },
  {
   "cell_type": "code",
   "execution_count": 16,
   "id": "ca905101-e20e-4d38-b5d8-5c8b6f8c4f2a",
   "metadata": {},
   "outputs": [
    {
     "name": "stdout",
     "output_type": "stream",
     "text": [
      "\n",
      "Product List Management:\n",
      "Highest Price: 200\n",
      "Lowest Price: 30\n",
      "Mid-Range Products: [50, 120, 90, 150, 180]\n",
      "Updated Product List with Premium Price: [50, 120, 30, 200, 90, 150, 180, 250]\n"
     ]
    }
   ],
   "source": [
    "product_prices = [50, 120, 30, 200, 90, 150, 180]\n",
    "premium_product_price = 250\n",
    "\n",
    "# highest and lowest prices\n",
    "highest_price = max(product_prices)\n",
    "lowest_price = min(product_prices)\n",
    "\n",
    "# Creating a mid-range product list\n",
    "mid_range_products = [price for price in product_prices if price != highest_price and price != lowest_price]\n",
    "\n",
    "# Adding premium product price\n",
    "updated_product_list = product_prices + [premium_product_price]\n",
    "\n",
    "# Printing output\n",
    "print(\"\\nProduct List Management:\")\n",
    "print(f\"Highest Price: {highest_price}\")\n",
    "print(f\"Lowest Price: {lowest_price}\")\n",
    "print(f\"Mid-Range Products: {mid_range_products}\")\n",
    "print(f\"Updated Product List with Premium Price: {updated_product_list}\")"
   ]
  },
  {
   "cell_type": "markdown",
   "id": "e201c6c0-1120-40be-b855-f16167ca4b08",
   "metadata": {},
   "source": [
    "## Task 4: Inventory Lookup\n",
    "\n",
    "Objective: Quick access to product details is important for customer service representatives.\n",
    "\n",
    "Ø Create a dictionary storing key information about a product (e.g., `product_name`, `SKU`, `price`, `category`).\n",
    "\n",
    "Ø Print the product name and SKU when queried by a customer service representative."
   ]
  },
  {
   "cell_type": "code",
   "execution_count": 22,
   "id": "666676b3-51d6-4eaf-960c-8a234c85fc4c",
   "metadata": {},
   "outputs": [
    {
     "name": "stdout",
     "output_type": "stream",
     "text": [
      "Product Name: Wireless Mouse\n",
      "Product SKU: WM-12345\n",
      "Product Price: 25.99\n",
      "Product category: Electronics\n"
     ]
    }
   ],
   "source": [
    "# Creating a dictionary storing product information\n",
    "product_info = {\n",
    "    \"product_name\": \"Wireless Mouse\",\n",
    "    \"SKU\": \"WM-12345\",\n",
    "    \"price\": 25.99,\n",
    "    \"category\": \"Electronics\"\n",
    "}\n",
    "\n",
    "# Printing the product name and SKU\n",
    "print(\"Product Name:\", product_info[\"product_name\"])\n",
    "print(\"Product SKU:\", product_info[\"SKU\"])\n",
    "print(\"Product Price:\", product_info[\"price\"])\n",
    "print(\"Product category:\", product_info[\"category\"])"
   ]
  },
  {
   "cell_type": "markdown",
   "id": "a16a2d3b-59d7-409e-8b82-77a1be566aae",
   "metadata": {},
   "source": [
    "## Task 5: Stock Level Alert System\n",
    "\n",
    "Objective: Ensuring that stock levels are maintained is critical to avoid stockouts.\n",
    "\n",
    "Ø Write the code that takes the stock level as input.\n",
    "\n",
    "Ø  If stock is below a certain threshold, print a \"Reorder Now\" alert. If stock is above the threshold, print \"Stock is sufficient.\""
   ]
  },
  {
   "cell_type": "code",
   "execution_count": 24,
   "id": "a2704fa4-f9cb-4202-b37f-dd64ca6eab32",
   "metadata": {},
   "outputs": [
    {
     "name": "stdin",
     "output_type": "stream",
     "text": [
      "Enter stock level:  45\n"
     ]
    },
    {
     "name": "stdout",
     "output_type": "stream",
     "text": [
      "Reorder Now\n"
     ]
    }
   ],
   "source": [
    "threshold = 50\n",
    "\n",
    "# stock level input from the user\n",
    "stock_level = int(input(\"Enter stock level: \"))\n",
    "\n",
    "# Checking if the stock level is above or below the threshold\n",
    "if stock_level < threshold:\n",
    "    print(\"Reorder Now\")\n",
    "else:\n",
    "    print(\"Stock is sufficient\")"
   ]
  },
  {
   "cell_type": "markdown",
   "id": "499ccbce-5f3f-412f-bd71-361772c85180",
   "metadata": {},
   "source": [
    "## Task 6: Sales Report Formatting\n",
    "\n",
    "Objective: Formatting the sales data for management reports is crucial.\n",
    "\n",
    "Ø Given a list of products sold, print each product name in uppercase for better visibility in reports.\n",
    "\n",
    "Ø Implement both a `for` loop and a `while` loop for this task to ensure code flexibility."
   ]
  },
  {
   "cell_type": "code",
   "execution_count": 26,
   "id": "50591c50-c145-45fe-ba5a-328e89f53823",
   "metadata": {},
   "outputs": [
    {
     "name": "stdout",
     "output_type": "stream",
     "text": [
      "Using a for loop:\n",
      "LAPTOP\n",
      "MOUSE\n",
      "KEYBOARD\n",
      "MONITOR\n",
      "PRINTER\n",
      "Using a while loop:\n",
      "LAPTOP\n",
      "MOUSE\n",
      "KEYBOARD\n",
      "MONITOR\n",
      "PRINTER\n"
     ]
    }
   ],
   "source": [
    "# List of products sold\n",
    "products_sold = [\"laptop\", \"mouse\", \"keyboard\", \"monitor\", \"printer\"]\n",
    "\n",
    "# Printing products in upper case using a 'for' loop\n",
    "print(\"Using a for loop:\")\n",
    "for product in products_sold:\n",
    "    print(product.upper())\n",
    "\n",
    "# List of products sold\n",
    "products_sold = [\"laptop\", \"mouse\", \"keyboard\", \"monitor\", \"printer\"]\n",
    "\n",
    "# Printing products in upper case uisng \"while\" loop\n",
    "print(\"Using a while loop:\")\n",
    "index = 0\n",
    "while index < len(products_sold):\n",
    "    print(products_sold[index].upper())\n",
    "    index += 1"
   ]
  },
  {
   "cell_type": "markdown",
   "id": "31927a5a-3d32-401d-8b46-44b7d5be8bd8",
   "metadata": {},
   "source": [
    "## Task 7: Area Calculation for Store Layout\n",
    "\n",
    "Objective: Accurate area calculations are needed to plan new store layouts.\n",
    "\n",
    "Ø Create a function that calculates the area of a section of the store based on length and width.\n",
    "\n",
    "Ø Use this function to calculate and print the area of several store sections."
   ]
  },
  {
   "cell_type": "code",
   "execution_count": 30,
   "id": "9521038a-7845-4548-88d9-be0c2ec0064d",
   "metadata": {},
   "outputs": [
    {
     "name": "stdout",
     "output_type": "stream",
     "text": [
      "The area of section 1 is 300 square meters.\n",
      "The area of section 2 is 300 square meters.\n",
      "The area of section 3 is 500 square meters.\n"
     ]
    }
   ],
   "source": [
    "# Function to calculate the area of a section\n",
    "def calculate_area(length, width):\n",
    "    return length * width\n",
    "\n",
    "# Main function to calculate and print areas of multiple store sections\n",
    "def main():\n",
    "    # Area for section 1\n",
    "    length1, width1 = 20, 15\n",
    "    area1 = calculate_area(length1, width1)\n",
    "    print(f\"The area of section 1 is {area1} square meters.\")\n",
    "\n",
    "    # Area for section 2\n",
    "    length2, width2 = 30, 10\n",
    "    area2 = calculate_area(length2, width2)\n",
    "    print(f\"The area of section 2 is {area2} square meters.\")\n",
    "\n",
    "    # Area for section 3\n",
    "    length3, width3 = 25, 20\n",
    "    area3 = calculate_area(length3, width3)\n",
    "    print(f\"The area of section 3 is {area3} square meters.\")\n",
    "\n",
    "main()"
   ]
  },
  {
   "cell_type": "markdown",
   "id": "858cd4d8-e21c-4848-9e35-1d8bf1477b9f",
   "metadata": {},
   "source": [
    "## Task 8: Customer Feedback Analysis\n",
    "\n",
    "Objective: Analyzing customer feedback is vital to improving service.\n",
    "\n",
    "· Write the code to count the number of vowels in a customer feedback message.\n",
    "\n",
    "·  Also, reverse the feedback message for a unique data presentation in reports."
   ]
  },
  {
   "cell_type": "code",
   "execution_count": 31,
   "id": "53c56bc0-bf5f-4f56-bf50-7e4db3d0ba7b",
   "metadata": {},
   "outputs": [
    {
     "name": "stdout",
     "output_type": "stream",
     "text": [
      "Customer Feedback Analysis:\n",
      "Original Feedback: I loved the fast and friendly service!\n",
      "Number of Vowels: 11\n",
      "Reversed Feedback: !ecivres yldneirf dna tsaf eht devol I\n"
     ]
    }
   ],
   "source": [
    "# Function to count vowels in a string\n",
    "def count_vowels(feedback):\n",
    "    vowels = \"aeiouAEIOU\"\n",
    "    count = 0\n",
    "    for char in feedback:\n",
    "        if char in vowels:\n",
    "            count += 1\n",
    "    return count\n",
    "\n",
    "# Function to reverse a string\n",
    "def reverse_feedback(feedback):\n",
    "    return feedback[::-1]\n",
    "\n",
    "# Main function to analyze customer feedback\n",
    "def main():\n",
    "    # Sample customer feedback\n",
    "    feedback = \"I loved the fast and friendly service!\"\n",
    "\n",
    "    # Count vowels in the feedback\n",
    "    vowel_count = count_vowels(feedback)\n",
    "\n",
    "    # Reverse the feedback\n",
    "    reversed_feedback = reverse_feedback(feedback)\n",
    "\n",
    "    # Print the analysis results\n",
    "    print(\"Customer Feedback Analysis:\")\n",
    "    print(f\"Original Feedback: {feedback}\")\n",
    "    print(f\"Number of Vowels: {vowel_count}\")\n",
    "    print(f\"Reversed Feedback: {reversed_feedback}\")\n",
    "\n",
    "main()"
   ]
  },
  {
   "cell_type": "markdown",
   "id": "f26925f6-2309-4656-959a-120457291825",
   "metadata": {},
   "source": [
    "## Task 9: Price Filtering Tool\n",
    "\n",
    "Objective: Filtering product prices helps in creating targeted discounts.\n",
    "\n",
    "Ø Use list comprehension to filter out products priced below a certain threshold from the product list.\n",
    "\n",
    "Ø Print the list of eligible products for a discount campaign."
   ]
  },
  {
   "cell_type": "code",
   "execution_count": 32,
   "id": "61dc22f5-4673-4738-9d21-4bacf56400fb",
   "metadata": {},
   "outputs": [
    {
     "name": "stdout",
     "output_type": "stream",
     "text": [
      "Products eligible for the discount campaign: [85, 45]\n"
     ]
    }
   ],
   "source": [
    "# List of product prices\n",
    "product_prices = [150, 85, 300, 120, 45, 200]\n",
    "\n",
    "# Discount threshold\n",
    "discount_threshold = 100\n",
    "\n",
    "# list comprehension to apply the discount\n",
    "eligible_products = [price for price in product_prices if price < discount_threshold]\n",
    "\n",
    "# Print the list of eligible products\n",
    "print(\"Products eligible for the discount campaign:\", eligible_products)"
   ]
  },
  {
   "cell_type": "markdown",
   "id": "f47186ae-faf7-4078-8691-6d5c4aef39da",
   "metadata": {},
   "source": [
    "## Task 10: Sales Log File Management\n",
    "\n",
    "Objective: Proper management of sales log files is necessary for compliance and audit purposes.\n",
    "\n",
    "Ø Create a text file named `sales_log.txt` to store daily sales summaries.\n",
    "\n",
    "Ø Write two lines summarizing the daily sales performance.\n",
    "\n",
    "Ø Read and print the content of the file to ensure data integrity."
   ]
  },
  {
   "cell_type": "code",
   "execution_count": 34,
   "id": "f7781d3e-4da0-4211-882d-c2865c1bc24e",
   "metadata": {},
   "outputs": [
    {
     "name": "stdout",
     "output_type": "stream",
     "text": [
      "Content of 'sales_log.txt':\n",
      "Total sales today: $12,345.\n",
      "Number of transactions: 123.\n",
      "\n"
     ]
    }
   ],
   "source": [
    "# create a File name\n",
    "file_name = \"sales_log.txt\"\n",
    "\n",
    "# Daily sales summaries\n",
    "dailysales_summary_line1 = \"Total sales today: $12,345.\"\n",
    "dailysales_summary_line2 = \"Number of transactions: 123.\"\n",
    "\n",
    "# Write the summaries to the file\n",
    "with open(file_name, \"w\") as file:\n",
    "    file.write(dailysales_summary_line1 + \"\\n\")\n",
    "    file.write(dailysales_summary_line2 + \"\\n\")\n",
    "\n",
    "# Read and print the content of the file\n",
    "print(\"Content of 'sales_log.txt':\")\n",
    "with open(file_name, \"r\") as file:\n",
    "    content = file.read()\n",
    "    print(content)"
   ]
  },
  {
   "cell_type": "markdown",
   "id": "e26b0ff5-a538-4450-8b46-2ecae1816460",
   "metadata": {},
   "source": [
    "## Task 11: Daily Sales Average\n",
    "\n",
    "Objective: Calculate the average daily sales for the past week.\n",
    "\n",
    "Ø Given a list of sales figures for the last 7 days, calculate the average sales.\n",
    "\n",
    "Ø Print the average sales to help the finance team understand the weekly performance."
   ]
  },
  {
   "cell_type": "code",
   "execution_count": 39,
   "id": "30e27190-fa0d-41ff-89bc-3755aa750112",
   "metadata": {},
   "outputs": [
    {
     "name": "stdout",
     "output_type": "stream",
     "text": [
      "Average Daily Sales for the Past Week: $1471.43\n"
     ]
    }
   ],
   "source": [
    "# Daily sales for the past week\n",
    "daily_sales = [1200, 1500, 1100, 1800, 1700, 1600, 1400]\n",
    "\n",
    "# Calculating the average daily sales\n",
    "average_sales = sum(daily_sales) / len(daily_sales)\n",
    "\n",
    "# Print the average sales\n",
    "print(f\"Average Daily Sales for the Past Week: ${average_sales:.2f}\")"
   ]
  },
  {
   "cell_type": "markdown",
   "id": "361f4008-4b77-4d07-bd7e-879b6361c348",
   "metadata": {},
   "source": [
    "## Task 12: Customer Segmentation\n",
    "\n",
    "Objective: Categorize customers based on their total spending.\n",
    "\n",
    "Ø Create a list of customer spending amounts.\n",
    "\n",
    "Ø Use a loop to categorize customers as \"Low\", \"Medium\", or \"High\" spenders based on their spending amount.\n",
    "\n",
    "Ø Print the categorized results to assist in targeted marketing."
   ]
  },
  {
   "cell_type": "code",
   "execution_count": 40,
   "id": "0ae8d2a2-f1ac-42fc-a68f-6e59c136d73d",
   "metadata": {},
   "outputs": [
    {
     "name": "stdout",
     "output_type": "stream",
     "text": [
      "Customer Spending Categories:\n",
      "Customer 1: Spending = $200 -> Category: Low\n",
      "Customer 2: Spending = $800 -> Category: Medium\n",
      "Customer 3: Spending = $1500 -> Category: High\n",
      "Customer 4: Spending = $3000 -> Category: High\n",
      "Customer 5: Spending = $450 -> Category: Low\n",
      "Customer 6: Spending = $1200 -> Category: Medium\n"
     ]
    }
   ],
   "source": [
    "# List of customer spending amounts\n",
    "customer_spendings = [200, 800, 1500, 3000, 450, 1200]\n",
    "\n",
    "# Define categorization criteria\n",
    "LOW_THRESHOLD = 500\n",
    "MEDIUM_THRESHOLD = 1500\n",
    "\n",
    "# Categorize customers and print results\n",
    "print(\"Customer Spending Categories:\")\n",
    "for i, spending in enumerate(customer_spendings, start=1):\n",
    "    if spending < LOW_THRESHOLD:\n",
    "        category = \"Low\"\n",
    "    elif LOW_THRESHOLD <= spending < MEDIUM_THRESHOLD:\n",
    "        category = \"Medium\"\n",
    "    else:\n",
    "        category = \"High\"\n",
    "    print(f\"Customer {i}: Spending = ${spending} -> Category: {category}\")"
   ]
  },
  {
   "cell_type": "markdown",
   "id": "3ed57153-b3cf-4b8e-9833-10e1352c2e0f",
   "metadata": {},
   "source": [
    "## Task 13: Discount Calculation\n",
    "\n",
    "Objective: Automate the calculation of discounts for a promotional campaign.\n",
    "\n",
    "Ø Write a code that calculates the final price after applying a discount percentage to a product’s original price.\n",
    "\n",
    "Ø Test this function on a list of products with different discounts and print the final prices."
   ]
  },
  {
   "cell_type": "code",
   "execution_count": 41,
   "id": "98ae9295-35e5-4e59-bc11-76f7df283986",
   "metadata": {},
   "outputs": [
    {
     "name": "stdout",
     "output_type": "stream",
     "text": [
      "Final Prices After Discounts:\n",
      "Product A: Original Price = $100, Discount = 10%, Final Price = $90.00\n",
      "Product B: Original Price = $250, Discount = 20%, Final Price = $200.00\n",
      "Product C: Original Price = $75, Discount = 15%, Final Price = $63.75\n",
      "Product D: Original Price = $150, Discount = 5%, Final Price = $142.50\n"
     ]
    }
   ],
   "source": [
    "# Function to calculate the final price after discount\n",
    "def calculate_final_price(original_price, discount_percentage):\n",
    "    discount_amount = (discount_percentage / 100) * original_price\n",
    "    final_price = original_price - discount_amount\n",
    "    return final_price\n",
    "\n",
    "# List of products with original prices and discount percentages\n",
    "products = [\n",
    "    {\"name\": \"Product A\", \"original_price\": 100, \"discount_percentage\": 10},\n",
    "    {\"name\": \"Product B\", \"original_price\": 250, \"discount_percentage\": 20},\n",
    "    {\"name\": \"Product C\", \"original_price\": 75, \"discount_percentage\": 15},\n",
    "    {\"name\": \"Product D\", \"original_price\": 150, \"discount_percentage\": 5}\n",
    "]\n",
    "\n",
    "# Calculate and print final prices for each product\n",
    "print(\"Final Prices After Discounts:\")\n",
    "for product in products:\n",
    "    name = product[\"name\"]\n",
    "    original_price = product[\"original_price\"]\n",
    "    discount_percentage = product[\"discount_percentage\"]\n",
    "    final_price = calculate_final_price(original_price, discount_percentage)\n",
    "    print(f\"{name}: Original Price = ${original_price}, Discount = {discount_percentage}%, Final Price = ${final_price:.2f}\")"
   ]
  },
  {
   "cell_type": "markdown",
   "id": "fb3e27bb-eb34-4363-8c9e-f91eb5b7670f",
   "metadata": {},
   "source": [
    "## Task 14: Customer Feedback Sentiment Analysis\n",
    "\n",
    "Objective: Basic sentiment analysis of customer feedback.\n",
    "\n",
    "Ø Write the Python code that checks if certain positive or negative words (e.g., \"good\", \"bad\", \"happy\", \"disappointed\") are present in customer feedback.\n",
    "\n",
    "Ø Print \"Positive\" or \"Negative\" based on the words found in the feedback."
   ]
  },
  {
   "cell_type": "code",
   "execution_count": 43,
   "id": "82835296-c99d-41af-bf0d-a5daffb2fcbc",
   "metadata": {},
   "outputs": [
    {
     "name": "stdout",
     "output_type": "stream",
     "text": [
      "Customer Feedback Sentiment: Positive\n"
     ]
    }
   ],
   "source": [
    "# Sample customer feedback\n",
    "feedback = \"I am very happy with the service. It was a good experience!\"\n",
    "\n",
    "# Lists of positive and negative words\n",
    "positive_words = [\"good\", \"happy\", \"excellent\", \"great\"]\n",
    "negative_words = [\"bad\", \"disappointed\", \"poor\", \"terrible\"]\n",
    "\n",
    "# Convert feedback to lowercase for case-insensitive comparison\n",
    "feedback = feedback.lower()\n",
    "\n",
    "# Count positive words\n",
    "positive_count = 0\n",
    "for word in positive_words:\n",
    "    if word in feedback:\n",
    "        positive_count += 1\n",
    "\n",
    "# Count negative words\n",
    "negative_count = 0\n",
    "for word in negative_words:\n",
    "    if word in feedback:\n",
    "        negative_count += 1\n",
    "\n",
    "# Determine sentiment\n",
    "if positive_count > negative_count:\n",
    "    sentiment = \"Positive\"\n",
    "elif negative_count > positive_count:\n",
    "    sentiment = \"Negative\"\n",
    "else:\n",
    "    sentiment = \"Neutral\"\n",
    "\n",
    "# Print the result\n",
    "print(f\"Customer Feedback Sentiment: {sentiment}\")"
   ]
  },
  {
   "cell_type": "markdown",
   "id": "2d6c84f0-4e5b-4e90-a059-fb05722c6ce3",
   "metadata": {},
   "source": [
    "## Task 15: Employee Salary Increment Calculator\n",
    "\n",
    "Objective: Calculate the salary increment for employees based on their performance rating.\n",
    "\n",
    "Ø Create a dictionary that stores employee names and their performance ratings.\n",
    "\n",
    "Ø Write the code that applies a different increment percentage based on the rating.\n",
    "\n",
    "Ø Print the updated salary for each employee."
   ]
  },
  {
   "cell_type": "code",
   "execution_count": 44,
   "id": "a378b4e0-9c0f-48fc-bdf0-8a85964f3ddc",
   "metadata": {},
   "outputs": [
    {
     "name": "stdout",
     "output_type": "stream",
     "text": [
      "Updated Salaries After Increment:\n",
      "Alice: Current Salary = $50000, Rating = Excellent, Updated Salary = $60000.00\n",
      "Bob: Current Salary = $40000, Rating = Good, Updated Salary = $46000.00\n",
      "Charlie: Current Salary = $45000, Rating = Average, Updated Salary = $49500.00\n",
      "David: Current Salary = $35000, Rating = Poor, Updated Salary = $36750.00\n"
     ]
    }
   ],
   "source": [
    "# employees with their current salary and performance rating\n",
    "employees = {\n",
    "    \"Alice\": {\"current_salary\": 50000, \"rating\": \"Excellent\"},\n",
    "    \"Bob\": {\"current_salary\": 40000, \"rating\": \"Good\"},\n",
    "    \"Charlie\": {\"current_salary\": 45000, \"rating\": \"Average\"},\n",
    "    \"David\": {\"current_salary\": 35000, \"rating\": \"Poor\"}\n",
    "}\n",
    "\n",
    "# increment percentages based on performance rating\n",
    "increments = {\n",
    "    \"Excellent\": 20,\n",
    "    \"Good\": 15,\n",
    "    \"Average\": 10,\n",
    "    \"Poor\": 5\n",
    "}\n",
    "\n",
    "# Calculating and printing updated salaries\n",
    "print(\"Updated Salaries After Increment:\")\n",
    "for name, details in employees.items():\n",
    "    current_salary = details[\"current_salary\"]\n",
    "    rating = details[\"rating\"]\n",
    "    increment_percentage = increments[rating]\n",
    "    updated_salary = current_salary * (1 + increment_percentage / 100)\n",
    "    print(f\"{name}: Current Salary = ${current_salary}, Rating = {rating}, Updated Salary = ${updated_salary:.2f}\")"
   ]
  },
  {
   "cell_type": "markdown",
   "id": "01a8f390-b378-4068-86d6-5067a8a673fb",
   "metadata": {},
   "source": [
    "## Task 16: Monthly Sales Report Generator\n",
    "\n",
    " Objective: Generate a simple text-based monthly sales report.\n",
    "\n",
    "Ø Create a list of daily sales figures for a month.\n",
    "\n",
    "Ø Calculate the total and average sales for the month.\n",
    "\n",
    "Ø Write these statistics to a text file named monthly_report.txt."
   ]
  },
  {
   "cell_type": "code",
   "execution_count": 51,
   "id": "ceda187e-8f15-49c1-b0e5-af07170b600a",
   "metadata": {},
   "outputs": [
    {
     "name": "stdout",
     "output_type": "stream",
     "text": [
      "Monthly sales report has been generated and saved to 'monthly_report.txt'.\n",
      "\n",
      "Contents of 'monthly_report.txt':\n",
      "Monthly Sales Report\n",
      "---------------------\n",
      "Total Sales: $10300\n",
      "Average Daily Sales: $343.33\n",
      "\n"
     ]
    }
   ],
   "source": [
    "# List of daily sales figures for a month\n",
    "daily_sales = [\n",
    "    200, 250, 300, 400, 350, 500, 450, 300, 250, 400,\n",
    "    200, 300, 450, 500, 400, 250, 350, 300, 450, 400,\n",
    "    250, 300, 200, 400, 350, 300, 500, 450, 300, 250\n",
    "]\n",
    "\n",
    "# Calculate total sales for the month\n",
    "total_sales = sum(daily_sales)\n",
    "\n",
    "# Calculate average daily sales\n",
    "average_sales = total_sales / len(daily_sales)\n",
    "\n",
    "# Write the report to a text file\n",
    "with open(\"monthly_report.txt\", \"w\") as file:\n",
    "    file.write(\"Monthly Sales Report\\n\")\n",
    "    file.write(\"---------------------\\n\")\n",
    "    file.write(f\"Total Sales: ${total_sales}\\n\")\n",
    "    file.write(f\"Average Daily Sales: ${average_sales:.2f}\\n\")\n",
    "\n",
    "# Print confirmation message\n",
    "print(\"Monthly sales report has been generated and saved to 'monthly_report.txt'.\")\n",
    "\n",
    "# Read the contents of the monthly_report.txt file\n",
    "with open(\"monthly_report.txt\", \"r\") as file:\n",
    "    report_content = file.read()\n",
    "\n",
    "# Print the contents of the file\n",
    "print(\"\\nContents of 'monthly_report.txt':\")\n",
    "print(report_content)"
   ]
  },
  {
   "cell_type": "markdown",
   "id": "eec1428e-dc81-48cb-9688-90d8b80011ce",
   "metadata": {},
   "source": [
    "## Task 17: Stock Replenishment Planning\n",
    "\n",
    " Objective: Determine which products need replenishment based on sales data.\n",
    "\n",
    "Ø Given a list of products and their current stock levels, compare these against a predefined threshold.\n",
    "\n",
    "Ø Print a list of products that need to be reordered to maintain adequate stock levels."
   ]
  },
  {
   "cell_type": "code",
   "execution_count": 52,
   "id": "2526de4b-bdd9-4d1b-ac09-4be9edf93aa7",
   "metadata": {},
   "outputs": [
    {
     "name": "stdout",
     "output_type": "stream",
     "text": [
      "Products that need replenishment:\n",
      "Product A\n",
      "Product C\n"
     ]
    }
   ],
   "source": [
    "# List of products with their current stock levels and thresholds\n",
    "products = [\n",
    "    {\"name\": \"Product A\", \"current_stock\": 50, \"threshold\": 100},\n",
    "    {\"name\": \"Product B\", \"current_stock\": 120, \"threshold\": 100},\n",
    "    {\"name\": \"Product C\", \"current_stock\": 80, \"threshold\": 150},\n",
    "    {\"name\": \"Product D\", \"current_stock\": 90, \"threshold\": 90},\n",
    "    {\"name\": \"Product E\", \"current_stock\": 200, \"threshold\": 150},\n",
    "]\n",
    "\n",
    "# Empty list to store products that need replenishment\n",
    "reorder_products = []\n",
    "\n",
    "# Loop through each product and check if it needs replenishment\n",
    "for product in products:\n",
    "    if product[\"current_stock\"] < product[\"threshold\"]:\n",
    "        reorder_products.append(product[\"name\"])\n",
    "\n",
    "# Print the list of products that need to be reordered\n",
    "print(\"Products that need replenishment:\")\n",
    "for product in reorder_products:\n",
    "    print(product)"
   ]
  },
  {
   "cell_type": "markdown",
   "id": "0d81d88e-7160-41c7-ace7-d8e076b13e97",
   "metadata": {},
   "source": [
    "## Task 18: Data Cleaning Utility\n",
    "\n",
    "Objective: Create a utility to clean customer names for better data consistency.\n",
    "\n",
    "Ø Write the code that takes a list of customer names with extra spaces and inconsistent capitalization.\n",
    "\n",
    "Ø Clean the names by trimming spaces and standardizing the capitalization (e.g., \"JOHN DOE\" -> \"John Doe\").\n",
    "\n",
    "Ø Print the cleaned names for database entry."
   ]
  },
  {
   "cell_type": "code",
   "execution_count": 53,
   "id": "97854cfb-e1a5-4570-a7b8-44ce65dfbd43",
   "metadata": {},
   "outputs": [
    {
     "name": "stdout",
     "output_type": "stream",
     "text": [
      "Cleaned Customer Names for Database Entry:\n",
      "John Doe\n",
      "Mary Smith\n",
      "Alice Johnson\n",
      "Bob White\n"
     ]
    }
   ],
   "source": [
    "# List of customer names with extra spaces and inconsistent capitalization\n",
    "customer_names = [ \" john doe \", \" MARY SMITH \", \" aLICE JOHNSON \", \"bOB WHITE\" ]\n",
    "\n",
    "# Initialize an empty list to store cleaned names\n",
    "cleaned_names = []\n",
    "\n",
    "# Loop through each name in the input list\n",
    "for name in customer_names:\n",
    "    # Step 1: Trimming extra spaces\n",
    "    trimmed_name = name.strip()\n",
    "    \n",
    "    # Step 2: Adding capitalization\n",
    "    cleaned_name = trimmed_name.title()\n",
    "    \n",
    "    # Add the cleaned name to the list\n",
    "    cleaned_names.append(cleaned_name)\n",
    "\n",
    "# Print the cleaned names for database entry\n",
    "print(\"Cleaned Customer Names for Database Entry:\")\n",
    "for name in cleaned_names:\n",
    "    print(name)"
   ]
  },
  {
   "cell_type": "markdown",
   "id": "2117713b-2d55-497b-85bb-8a3799334541",
   "metadata": {},
   "source": [
    "## Task 19: Simple Sales Forecasting\n",
    "\n",
    "Objective: Implement a basic forecasting model for next month’s sales.\n",
    "\n",
    "Ø Based on the average sales of the last 3 months, predict next month’s sales using a simple average.\n",
    "\n",
    "Ø Print the forecasted sales figures for budget planning."
   ]
  },
  {
   "cell_type": "code",
   "execution_count": 54,
   "id": "6de19913-f546-4bb9-be91-cf4591d31e99",
   "metadata": {},
   "outputs": [
    {
     "name": "stdout",
     "output_type": "stream",
     "text": [
      "Forecasted Sales for Next Month: $22333.33\n"
     ]
    }
   ],
   "source": [
    "def main():\n",
    "    # Sample input: Sales data for the last 3 months\n",
    "    sales_last_3_months = [20000, 22000, 25000]\n",
    "    \n",
    "    # Step 1: Calculate the average sales of the last 3 months\n",
    "    average_sales = sum(sales_last_3_months) / len(sales_last_3_months)\n",
    "    \n",
    "    # Step 2: Print the forecasted sales for next month\n",
    "    print(f\"Forecasted Sales for Next Month: ${average_sales:.2f}\")\n",
    "\n",
    "if __name__ == \"__main__\":\n",
    "    main()"
   ]
  },
  {
   "cell_type": "markdown",
   "id": "1d667246-f53f-4ef1-b8b8-a798c4a07ce3",
   "metadata": {},
   "source": [
    "## Task 20: Customer Loyalty Points Calculator\n",
    "\n",
    "Objective: Calculate loyalty points for customers based on their purchases.\n",
    "\n",
    "Ø Write a code that assigns loyalty points to customers based on their total purchase amount.\n",
    "\n",
    "Ø Implement a tiered system where different spending levels earn different point multipliers.\n",
    "\n",
    "Ø Print the loyalty points for a list of customers."
   ]
  },
  {
   "cell_type": "code",
   "execution_count": 56,
   "id": "e3a5052d-41b3-4e48-8795-122936fa2675",
   "metadata": {},
   "outputs": [
    {
     "name": "stdout",
     "output_type": "stream",
     "text": [
      "Customer Loyalty Points:\n",
      "John Doe: $250 Purchase, Loyalty Points: 375.0\n",
      "Jane Smith: $500 Purchase, Loyalty Points: 750.0\n",
      "Alice Johnson: $1000 Purchase, Loyalty Points: 2000.0\n",
      "Bob White: $150 Purchase, Loyalty Points: 225.0\n"
     ]
    }
   ],
   "source": [
    "# Sample input: Customers and their total purchases\n",
    "customers = {\n",
    "    \"John Doe\": 250,\n",
    "    \"Jane Smith\": 500,\n",
    "    \"Alice Johnson\": 1000,\n",
    "    \"Bob White\": 150,\n",
    "}\n",
    "\n",
    "# loyalty points to consider\n",
    "\n",
    "#0−100: 1x points\n",
    "#101−500: 1.5x points\n",
    "#501−1000: 2x points\n",
    "#Above $1000: 2.5x points\n",
    "\n",
    "# Tiered loyalty point multipliers\n",
    "def calculate_loyalty_points(purchase_amount):\n",
    "    if purchase_amount <= 100:\n",
    "        return purchase_amount * 1.0 \n",
    "    elif purchase_amount <= 500:\n",
    "        return purchase_amount * 1.5 \n",
    "    elif purchase_amount <= 1000:\n",
    "        return purchase_amount * 2.0 \n",
    "    else:\n",
    "        return purchase_amount * 2.5 \n",
    "\n",
    "# Calculate and print loyalty points for each customer\n",
    "print(\"Customer Loyalty Points:\")\n",
    "for customer, purchase in customers.items():\n",
    "    loyalty_points = calculate_loyalty_points(purchase)\n",
    "    print(f\"{customer}: ${purchase} Purchase, Loyalty Points: {loyalty_points:}\")"
   ]
  }
 ],
 "metadata": {
  "kernelspec": {
   "display_name": "Python 3 (ipykernel)",
   "language": "python",
   "name": "python3"
  },
  "language_info": {
   "codemirror_mode": {
    "name": "ipython",
    "version": 3
   },
   "file_extension": ".py",
   "mimetype": "text/x-python",
   "name": "python",
   "nbconvert_exporter": "python",
   "pygments_lexer": "ipython3",
   "version": "3.12.7"
  }
 },
 "nbformat": 4,
 "nbformat_minor": 5
}
