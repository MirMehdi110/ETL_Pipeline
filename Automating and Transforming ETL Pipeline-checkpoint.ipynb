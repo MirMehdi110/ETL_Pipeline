{
 "cells": [
  {
   "cell_type": "markdown",
   "id": "04a4a9f3-c351-4973-83b4-21f9275c05e5",
   "metadata": {},
   "source": [
    "# Automating and Transforming ETL Pipeline"
   ]
  },
  {
   "cell_type": "code",
   "execution_count": null,
   "id": "edc4b28c-4352-4c8e-bfa0-09a9ec29af23",
   "metadata": {},
   "outputs": [],
   "source": [
    "# Extract movie titles from Box Office Mojo"
   ]
  },
  {
   "cell_type": "code",
   "execution_count": 4,
   "id": "698c8236-cc9b-47e9-b896-562adeda5693",
   "metadata": {},
   "outputs": [],
   "source": [
    "import requests\n",
    "from bs4 import BeautifulSoup\n",
    "import pandas as pd\n",
    "\n"
   ]
  },
  {
   "cell_type": "markdown",
   "id": "12e53a56-1bd1-40ab-b1bf-ae0ab96d7750",
   "metadata": {},
   "source": [
    "### Extracting the data"
   ]
  },
  {
   "cell_type": "code",
   "execution_count": 9,
   "id": "91438487-2a01-4805-a221-c5cb13bdadc4",
   "metadata": {},
   "outputs": [
    {
     "name": "stdout",
     "output_type": "stream",
     "text": [
      "Scraped Movie Titles: ['Last Breath', 'Superboys of Malegaon', 'The Monkey', 'Running Point: Season 1', 'Purple Rain', 'My Motherland', 'Open Your Eyes Jeffrey', 'Mickey 17', 'In the Lost Lands', 'Rule Breakers', 'Queen of the Ring', 'The Rule of Jenny Pen', 'Night of the Zoopocalypse', 'Seven Veils', 'On Becoming a Guinea Fowl', 'Bloat', \"There's Still Tomorrow\", 'Eephus', 'The Lost Daughter', 'Guns of Redemption', 'The Visitor', \"We're All Gonna Die\", 'F Marry Kill', 'The Wild', 'The Way, My Way', 'The Empire', 'Play It as It Lays', 'The Fetus', 'The Corpse', 'A Match', 'You Burn Me', 'UFC 313: Pereira vs. Ankalaev']\n"
     ]
    }
   ],
   "source": [
    "import requests\n",
    "from bs4 import BeautifulSoup\n",
    "\n",
    "# Scrape movie titles from Rotten Tomatoes\n",
    "def scrape_movie_titles():\n",
    "    url = \"https://www.rottentomatoes.com/browse/movies_in_theaters\"\n",
    "    headers = {\n",
    "        \"User-Agent\": \"Mozilla/5.0 (Windows NT 10.0; Win64; x64) AppleWebKit/537.36 (KHTML, like Gecko) Chrome/91.0.4472.124 Safari/537.36\"\n",
    "    }\n",
    "    response = requests.get(url, headers=headers)\n",
    "\n",
    "    if response.status_code == 200:\n",
    "        soup = BeautifulSoup(response.text, \"lxml\")\n",
    "        movie_titles = []\n",
    "\n",
    "        # Extract movie titles (adjust the HTML structure as needed)\n",
    "        for tile in soup.find_all(\"span\", class_=\"p--small\"):  # Adjust based on the actual HTML structure\n",
    "            title = tile.text.strip()\n",
    "            movie_titles.append(title)\n",
    "\n",
    "        return movie_titles\n",
    "    else:\n",
    "        print(\"Failed to retrieve the webpage\")\n",
    "        return []\n",
    "\n",
    "# Test the function\n",
    "movie_titles = scrape_movie_titles()\n",
    "print(\"Scraped Movie Titles:\", movie_titles)"
   ]
  },
  {
   "cell_type": "code",
   "execution_count": 10,
   "id": "0173fb37-caf3-4e65-8187-2efa9d951acf",
   "metadata": {},
   "outputs": [
    {
     "name": "stdout",
     "output_type": "stream",
     "text": [
      "Fetched Movie Data: [{'Title': 'Last Breath', 'Year': '2019', 'Rated': 'TV-MA', 'Released': '07 May 2019', 'Runtime': '90 min', 'Genre': 'Documentary', 'Director': 'Richard da Costa, Alex Parkinson', 'Writer': 'Alex Parkinson', 'Actors': 'Duncan Allcock, Kjetil Ove Alvestad, Stuart Anderson', 'Plot': \"A deep sea diver is stranded on the seabed with 5 minutes of oxygen and no hope of rescue. With access to amazing archive this is the story of one man's impossible fight for survival.\", 'Language': 'English', 'Country': 'United Kingdom, Belgium, Sweden', 'Awards': 'N/A', 'Poster': 'https://m.media-amazon.com/images/M/MV5BZTUyNDkxYzAtODAyZi00ODZiLThkNmItNGJiMDkwMTQyOGNlXkEyXkFqcGc@._V1_SX300.jpg', 'Ratings': [{'Source': 'Internet Movie Database', 'Value': '7.7/10'}, {'Source': 'Rotten Tomatoes', 'Value': '87%'}, {'Source': 'Metacritic', 'Value': '61/100'}], 'Metascore': '61', 'imdbRating': '7.7', 'imdbVotes': '7,864', 'imdbID': 'tt9056818', 'Type': 'movie', 'DVD': 'N/A', 'BoxOffice': 'N/A', 'Production': 'N/A', 'Website': 'N/A', 'Response': 'True'}, {'Title': 'Superboys of Malegaon', 'Year': '2024', 'Rated': 'N/A', 'Released': 'N/A', 'Runtime': 'N/A', 'Genre': 'N/A', 'Director': 'Reema Kagti', 'Writer': 'Varun Grover, Reema Kagti', 'Actors': 'Adarsh Gourav, Vineet Kumar Singh, Shashank Arora', 'Plot': 'The journey of an aspiring filmmaker as he bands together his group of friends to make a film for his town, Malegaon.', 'Language': 'N/A', 'Country': 'India', 'Awards': 'N/A', 'Poster': 'N/A', 'Ratings': [{'Source': 'Rotten Tomatoes', 'Value': '85%'}], 'Metascore': 'N/A', 'imdbRating': 'N/A', 'imdbVotes': 'N/A', 'imdbID': 'tt28007064', 'Type': 'movie', 'DVD': 'N/A', 'BoxOffice': 'N/A', 'Production': 'N/A', 'Website': 'N/A', 'Response': 'True'}, {'Title': 'The Monkey', 'Year': '2025', 'Rated': 'R', 'Released': '21 Feb 2025', 'Runtime': '98 min', 'Genre': 'Horror', 'Director': 'Osgood Perkins', 'Writer': 'Osgood Perkins, Stephen King', 'Actors': 'Theo James, Tatiana Maslany, Christian Convery', 'Plot': \"When twin brothers Bill and Hal find their father's old monkey toy in the attic, a series of gruesome deaths start. The siblings decide to throw the toy away and move on with their lives, growing apart over the years.\", 'Language': 'English', 'Country': 'United States, United Kingdom', 'Awards': 'N/A', 'Poster': 'https://m.media-amazon.com/images/M/MV5BNzZhMTc5MWUtOTE2MS00MjUwLTljYWEtYTk1ZmVjNzhmMzYzXkEyXkFqcGc@._V1_SX300.jpg', 'Ratings': [{'Source': 'Internet Movie Database', 'Value': '7.0/10'}, {'Source': 'Rotten Tomatoes', 'Value': '82%'}, {'Source': 'Metacritic', 'Value': '67/100'}], 'Metascore': '67', 'imdbRating': '7.0', 'imdbVotes': '399', 'imdbID': 'tt27714946', 'Type': 'movie', 'DVD': 'N/A', 'BoxOffice': 'N/A', 'Production': 'N/A', 'Website': 'N/A', 'Response': 'True'}, {'Title': 'Purple Rain', 'Year': '1984', 'Rated': 'R', 'Released': '27 Jul 1984', 'Runtime': '111 min', 'Genre': 'Drama, Music, Romance', 'Director': 'Albert Magnoli', 'Writer': 'Albert Magnoli, William Blinn', 'Actors': 'Prince, Apollonia Kotero, Morris Day', 'Plot': 'A young musician, tormented by an abusive situation at home, must contend with a rival singer, a burgeoning romance, and his own dissatisfied band, as his star begins to rise.', 'Language': 'English', 'Country': 'United States', 'Awards': 'Won 1 Oscar. 9 wins & 4 nominations total', 'Poster': 'https://m.media-amazon.com/images/M/MV5BNDI3YzhiMmItNWUwOC00NjQ2LTliMTItMGFjOTJhZTc4MDcyXkEyXkFqcGc@._V1_SX300.jpg', 'Ratings': [{'Source': 'Internet Movie Database', 'Value': '6.5/10'}, {'Source': 'Rotten Tomatoes', 'Value': '72%'}, {'Source': 'Metacritic', 'Value': '55/100'}], 'Metascore': '55', 'imdbRating': '6.5', 'imdbVotes': '24,794', 'imdbID': 'tt0087957', 'Type': 'movie', 'DVD': 'N/A', 'BoxOffice': '$70,261,052', 'Production': 'N/A', 'Website': 'N/A', 'Response': 'True'}, {'Title': 'Vietnam, My Motherland', 'Year': '1989', 'Rated': 'N/A', 'Released': 'N/A', 'Runtime': 'N/A', 'Genre': 'N/A', 'Director': 'Michael Davis', 'Writer': 'N/A', 'Actors': 'Lom Tom', 'Plot': 'A journey through the depths of the Mekong Delta for a man searching for his family. Lom Tom, a Vietnamese national, left a life in Vietnam after the fall of Saigon in 1975. This is the ...', 'Language': 'N/A', 'Country': 'USA', 'Awards': 'N/A', 'Poster': 'N/A', 'Ratings': [], 'Metascore': 'N/A', 'imdbRating': 'N/A', 'imdbVotes': 'N/A', 'imdbID': 'tt0316855', 'Type': 'movie', 'DVD': 'N/A', 'BoxOffice': 'N/A', 'Production': 'N/A', 'Website': 'N/A', 'Response': 'True'}, {'Title': 'Mickey 17', 'Year': '2025', 'Rated': 'R', 'Released': '07 Mar 2025', 'Runtime': '139 min', 'Genre': 'Adventure, Comedy, Fantasy', 'Director': 'Bong Joon Ho', 'Writer': 'Bong Joon Ho, Edward Ashton', 'Actors': 'Robert Pattinson, Steven Yeun, Michael Monroe', 'Plot': 'Mickey 17, known as an \"expendable,\" goes on a dangerous journey to colonize an ice planet.', 'Language': 'English', 'Country': 'South Korea, United States', 'Awards': 'N/A', 'Poster': 'https://m.media-amazon.com/images/M/MV5BZGQwYmEzMzktYzBmMy00NmVmLTkyYTUtOTYyZjliZDNhZGVkXkEyXkFqcGc@._V1_SX300.jpg', 'Ratings': [{'Source': 'Internet Movie Database', 'Value': '7.3/10'}, {'Source': 'Rotten Tomatoes', 'Value': '89%'}, {'Source': 'Metacritic', 'Value': '75/100'}], 'Metascore': '75', 'imdbRating': '7.3', 'imdbVotes': '2,466', 'imdbID': 'tt12299608', 'Type': 'movie', 'DVD': 'N/A', 'BoxOffice': 'N/A', 'Production': 'N/A', 'Website': 'N/A', 'Response': 'True'}, {'Title': 'In the Lost Lands', 'Year': '2025', 'Rated': 'R', 'Released': '07 Mar 2025', 'Runtime': '101 min', 'Genre': 'Action, Adventure, Fantasy', 'Director': 'Paul W.S. Anderson', 'Writer': 'Constantin Werner, Paul W.S. Anderson, George R.R. Martin', 'Actors': 'Milla Jovovich, Dave Bautista, Arly Jover', 'Plot': 'A queen sends the powerful and feared sorceress Gray Alys to the ghostly wilderness of the Lost Lands in search of a magical power, where the sorceress and her guide, the drifter Boyce, must outwit and outfight man and demon.', 'Language': 'English', 'Country': 'Germany, Canada, United States', 'Awards': 'N/A', 'Poster': 'https://m.media-amazon.com/images/M/MV5BOWYxYjEyYTUtY2FkZC00Y2QwLTk1ZjMtMTAyMTAyMzQ3MDZiXkEyXkFqcGc@._V1_SX300.jpg', 'Ratings': [{'Source': 'Internet Movie Database', 'Value': '5.4/10'}, {'Source': 'Metacritic', 'Value': '37/100'}], 'Metascore': '37', 'imdbRating': '5.4', 'imdbVotes': '193', 'imdbID': 'tt4419684', 'Type': 'movie', 'DVD': 'N/A', 'BoxOffice': 'N/A', 'Production': 'N/A', 'Website': 'N/A', 'Response': 'True'}, {'Title': 'Rule Breakers', 'Year': '2025', 'Rated': 'N/A', 'Released': 'N/A', 'Runtime': 'N/A', 'Genre': 'Drama', 'Director': 'Bill Guttentag', 'Writer': 'Jason Brown, Bill Guttentag, Elaha Mahboob', 'Actors': 'Phoebe Waller-Bridge, Ali Fazal, Fahim Fazli', 'Plot': \"Set between 2017-2019, this is the real life journey of the first all girls' Robotics team from Afghanistan, founded by Roya Mahboob, who self-taught themselves to write code and fought all odds to win championships worldwide.\", 'Language': 'English', 'Country': 'United States', 'Awards': '1 win', 'Poster': 'N/A', 'Ratings': [{'Source': 'Rotten Tomatoes', 'Value': '78%'}], 'Metascore': 'N/A', 'imdbRating': 'N/A', 'imdbVotes': 'N/A', 'imdbID': 'tt23398348', 'Type': 'movie', 'DVD': 'N/A', 'BoxOffice': 'N/A', 'Production': 'N/A', 'Website': 'N/A', 'Response': 'True'}, {'Title': 'Queen of the Ring', 'Year': '2024', 'Rated': 'N/A', 'Released': '15 Oct 2024', 'Runtime': '130 min', 'Genre': 'Biography, Drama, Sport', 'Director': 'Ash Avildsen', 'Writer': 'Ash Avildsen, Jeff Leen', 'Actors': 'Emily Bett Rickards, Josh Lucas, Tyler Posey', 'Plot': 'The biopic of Mildred Burke, the first ever million dollar female athlete and champion pro-wrestler who pioneered the sport in a time when all girl wrestling was banned in most of America.', 'Language': 'English', 'Country': 'United States', 'Awards': '3 wins', 'Poster': 'https://m.media-amazon.com/images/M/MV5BNmFkYmQ5MzktYjRkMi00MjY5LWEyM2UtNTc4ODVlYzc4NDE1XkEyXkFqcGc@._V1_SX300.jpg', 'Ratings': [{'Source': 'Internet Movie Database', 'Value': '8.8/10'}], 'Metascore': 'N/A', 'imdbRating': '8.8', 'imdbVotes': '76', 'imdbID': 'tt28070202', 'Type': 'movie', 'DVD': 'N/A', 'BoxOffice': 'N/A', 'Production': 'N/A', 'Website': 'N/A', 'Response': 'True'}, {'Title': 'The Rule of Jenny Pen', 'Year': '2024', 'Rated': 'N/A', 'Released': '19 Sep 2024', 'Runtime': 'N/A', 'Genre': 'Thriller', 'Director': 'James Ashcroft', 'Writer': 'James Ashcroft, Eli Kent, Owen Marshall', 'Actors': 'John Lithgow, Geoffrey Rush, Nathaniel Lees', 'Plot': \"Confined to a secluded rest home and trapped within his stroke-ridden body, a former Judge must stop an elderly psychopath who employs a child's puppet to abuse the home's residents with deadly consequences.\", 'Language': 'N/A', 'Country': 'New Zealand', 'Awards': 'N/A', 'Poster': 'N/A', 'Ratings': [{'Source': 'Rotten Tomatoes', 'Value': '71%'}], 'Metascore': 'N/A', 'imdbRating': 'N/A', 'imdbVotes': 'N/A', 'imdbID': 'tt6874690', 'Type': 'movie', 'DVD': 'N/A', 'BoxOffice': 'N/A', 'Production': 'N/A', 'Website': 'N/A', 'Response': 'True'}, {'Title': 'Night of the Zoopocalypse', 'Year': '2024', 'Rated': 'PG', 'Released': '07 Mar 2025', 'Runtime': '91 min', 'Genre': 'Animation, Adventure, Comedy', 'Director': 'Ricardo Curtis, Rodrigo Perez-Castro', 'Writer': 'Steven Hoban, James Kee', 'Actors': 'David Harbour, Bryn McAuley, Paul Sun-Hyung Lee', 'Plot': 'A wolf and mountain lion team up when a meteor unleashes a virus turning zoo animals into zombies. They join forces with other survivors to rescue the zoo and stop the deranged mutant leader from spreading the virus.', 'Language': 'English', 'Country': 'Canada, Belgium, France', 'Awards': '1 nomination total', 'Poster': 'https://m.media-amazon.com/images/M/MV5BNDY5NjE2MjYtOWNhZC00YWJhLTg5MTAtYWUxMmEwYTE0ZjQ3XkEyXkFqcGc@._V1_SX300.jpg', 'Ratings': [{'Source': 'Internet Movie Database', 'Value': '6.3/10'}], 'Metascore': 'N/A', 'imdbRating': '6.3', 'imdbVotes': '158', 'imdbID': 'tt29544253', 'Type': 'movie', 'DVD': 'N/A', 'BoxOffice': 'N/A', 'Production': 'N/A', 'Website': 'N/A', 'Response': 'True'}, {'Title': 'Seven Veils', 'Year': '2023', 'Rated': 'N/A', 'Released': '20 Mar 2025', 'Runtime': '107 min', 'Genre': 'Drama', 'Director': 'Atom Egoyan', 'Writer': 'Atom Egoyan', 'Actors': \"Amanda Seyfried, Douglas Smith, Mark O'Brien\", 'Plot': \"An earnest theater director has the task of remounting her former mentor's most famous work, the opera Salome. Some disturbing memories from her past will allow her repressed trauma to color the present.\", 'Language': 'English', 'Country': 'Canada, Finland, United States', 'Awards': '4 nominations', 'Poster': 'https://m.media-amazon.com/images/M/MV5BYjU5NmY4MjUtYjA3NC00M2NmLTlmNmYtNThlY2E4MzgwMmJmXkEyXkFqcGc@._V1_SX300.jpg', 'Ratings': [{'Source': 'Internet Movie Database', 'Value': '6.7/10'}, {'Source': 'Rotten Tomatoes', 'Value': '76%'}], 'Metascore': 'N/A', 'imdbRating': '6.7', 'imdbVotes': '236', 'imdbID': 'tt26671415', 'Type': 'movie', 'DVD': 'N/A', 'BoxOffice': 'N/A', 'Production': 'N/A', 'Website': 'N/A', 'Response': 'True'}, {'Title': 'On Becoming a Guinea Fowl', 'Year': '2024', 'Rated': 'N/A', 'Released': '03 Oct 2024', 'Runtime': '95 min', 'Genre': 'Comedy, Drama', 'Director': 'Rungano Nyoni', 'Writer': 'Rungano Nyoni', 'Actors': 'Susan Chardy, Roy Chisha, Blessings Bhamjee', 'Plot': 'On an empty road in the middle of the night, Shula stumbles across the body of her uncle. As funeral proceedings begin around them, she and her cousins bring to light the buried secrets of their middle-class Zambian family.', 'Language': 'English, Bemba', 'Country': 'United Kingdom, Zambia, Ireland', 'Awards': '1 win & 3 nominations', 'Poster': 'https://m.media-amazon.com/images/M/MV5BYzM2NTliMTAtZTk5Mi00MjM1LTgyNTEtNDJjZTgwZDM2MGFiXkEyXkFqcGc@._V1_SX300.jpg', 'Ratings': [{'Source': 'Internet Movie Database', 'Value': '6.7/10'}, {'Source': 'Rotten Tomatoes', 'Value': '100%'}], 'Metascore': 'N/A', 'imdbRating': '6.7', 'imdbVotes': '135', 'imdbID': 'tt32083311', 'Type': 'movie', 'DVD': 'N/A', 'BoxOffice': 'N/A', 'Production': 'N/A', 'Website': 'N/A', 'Response': 'True'}, {'Title': 'Bloat', 'Year': '2025', 'Rated': 'R', 'Released': '07 Mar 2025', 'Runtime': 'N/A', 'Genre': 'Horror', 'Director': 'Pablo Absento', 'Writer': 'Pablo Absento', 'Actors': 'Ben McKenzie, Bojana Novakovic, Sawyer Jones', 'Plot': 'It follows a mother and two sons vacationing in Japan. Their younger son almost drowns in a lake, and soon after the accident, the parents realize that something is wrong with their boy.', 'Language': 'English, Japanese', 'Country': 'France, Russia, Japan', 'Awards': 'N/A', 'Poster': 'https://m.media-amazon.com/images/M/MV5BNmE5Njk2Y2YtMDMyMS00ZmZlLWFiN2ItNDQ0MjZmYWNkYmEzXkEyXkFqcGc@._V1_SX300.jpg', 'Ratings': [], 'Metascore': 'N/A', 'imdbRating': 'N/A', 'imdbVotes': 'N/A', 'imdbID': 'tt23131648', 'Type': 'movie', 'DVD': 'N/A', 'BoxOffice': 'N/A', 'Production': 'N/A', 'Website': 'N/A', 'Response': 'True'}, {'Title': \"There's Still Tomorrow\", 'Year': '2023', 'Rated': 'N/A', 'Released': '26 Oct 2023', 'Runtime': '118 min', 'Genre': 'Comedy, Drama', 'Director': 'Paola Cortellesi', 'Writer': 'Furio Andreotti, Giulia Calenda, Paola Cortellesi', 'Actors': 'Paola Cortellesi, Valerio Mastandrea, Romana Maggiora Vergano', 'Plot': 'Set in postwar 1940s Italy, it follows Delia breaking traditional family patterns and aspiring to a different future, after receiving a mysterious letter.', 'Language': 'Italian, English', 'Country': 'Italy', 'Awards': '23 wins & 19 nominations total', 'Poster': 'https://m.media-amazon.com/images/M/MV5BMmZhOWMzNzQtNjY0OC00MTYzLTllODUtZjZjY2MzNDc5ODdmXkEyXkFqcGc@._V1_SX300.jpg', 'Ratings': [{'Source': 'Internet Movie Database', 'Value': '7.7/10'}, {'Source': 'Rotten Tomatoes', 'Value': '100%'}], 'Metascore': 'N/A', 'imdbRating': '7.7', 'imdbVotes': '13,411', 'imdbID': 'tt21800162', 'Type': 'movie', 'DVD': 'N/A', 'BoxOffice': 'N/A', 'Production': 'N/A', 'Website': 'N/A', 'Response': 'True'}, {'Title': 'Eephus', 'Year': '2024', 'Rated': 'N/A', 'Released': '01 Jan 2025', 'Runtime': '98 min', 'Genre': 'Comedy, Drama', 'Director': 'Carson Lund', 'Writer': 'Michael Basta, Nate Fisher, Carson Lund', 'Actors': 'Frederick Wiseman, Bill Lee, Keith William Richards', 'Plot': \"Grown men's recreational baseball game stretches to extra innings on their beloved field's final day before demolition. Humor and nostalgia intertwine as daylight fades, signaling an era's end.\", 'Language': 'English', 'Country': 'United States, France', 'Awards': '2 wins & 8 nominations total', 'Poster': 'https://m.media-amazon.com/images/M/MV5BYWRiMzBkYWQtMGM0NC00NmI5LThmODUtM2NkZTAyMTVkYzhmXkEyXkFqcGc@._V1_SX300.jpg', 'Ratings': [{'Source': 'Rotten Tomatoes', 'Value': '100%'}, {'Source': 'Metacritic', 'Value': '80/100'}], 'Metascore': '80', 'imdbRating': 'N/A', 'imdbVotes': '144', 'imdbID': 'tt28332337', 'Type': 'movie', 'DVD': 'N/A', 'BoxOffice': 'N/A', 'Production': 'N/A', 'Website': 'N/A', 'Response': 'True'}, {'Title': 'The Lost Daughter', 'Year': '2021', 'Rated': 'R', 'Released': '31 Dec 2021', 'Runtime': '121 min', 'Genre': 'Drama', 'Director': 'Maggie Gyllenhaal', 'Writer': 'Maggie Gyllenhaal, Elena Ferrante', 'Actors': 'Olivia Colman, Jessie Buckley, Dakota Johnson', 'Plot': \"A woman's beach vacation takes a dark turn when she begins to confront the troubles of her past.\", 'Language': 'English, Italian, Greek', 'Country': 'United States, United Kingdom, Israel, Greece', 'Awards': 'Nominated for 3 Oscars. 41 wins & 114 nominations total', 'Poster': 'https://m.media-amazon.com/images/M/MV5BOGQ2OTNiNzMtMjA5Ny00Zjg4LWE1NTMtZDJlMWEyMDhhYmU4XkEyXkFqcGc@._V1_SX300.jpg', 'Ratings': [{'Source': 'Internet Movie Database', 'Value': '6.7/10'}, {'Source': 'Rotten Tomatoes', 'Value': '94%'}, {'Source': 'Metacritic', 'Value': '86/100'}], 'Metascore': '86', 'imdbRating': '6.7', 'imdbVotes': '77,449', 'imdbID': 'tt9100054', 'Type': 'movie', 'DVD': 'N/A', 'BoxOffice': 'N/A', 'Production': 'N/A', 'Website': 'N/A', 'Response': 'True'}, {'Title': 'Guns of Redemption', 'Year': '2025', 'Rated': 'N/A', 'Released': '07 Mar 2025', 'Runtime': 'N/A', 'Genre': 'Western', 'Director': 'Brian Skiba', 'Writer': 'Kieth Merrill, Jamie R. Thompson', 'Actors': 'Casper Van Dien, Kaitlyn Kemp, Siena Bjornerud', 'Plot': 'A scarred gunslinger tries leaving violence behind, but his past catches up. Near death from an ambush, he straps on his guns for one final mission: to save two captives and avenge a murdered priest before time runs out.', 'Language': 'English', 'Country': 'United States', 'Awards': 'N/A', 'Poster': 'N/A', 'Ratings': [], 'Metascore': 'N/A', 'imdbRating': 'N/A', 'imdbVotes': 'N/A', 'imdbID': 'tt32393196', 'Type': 'movie', 'DVD': 'N/A', 'BoxOffice': 'N/A', 'Production': 'N/A', 'Website': 'N/A', 'Response': 'True'}, {'Title': 'The Visitor', 'Year': '2007', 'Rated': 'PG-13', 'Released': '23 May 2008', 'Runtime': '104 min', 'Genre': 'Drama', 'Director': 'Tom McCarthy', 'Writer': 'Tom McCarthy', 'Actors': 'Richard Jenkins, Haaz Sleiman, Danai Gurira', 'Plot': 'A college professor travels to New York City to attend a conference and finds a young couple living in his apartment.', 'Language': 'English, French, Arabic, Romanian', 'Country': 'United States', 'Awards': 'Nominated for 1 Oscar. 19 wins & 35 nominations total', 'Poster': 'https://m.media-amazon.com/images/M/MV5BMTIzNTg3NzkzNV5BMl5BanBnXkFtZTcwNzMwMjU2MQ@@._V1_SX300.jpg', 'Ratings': [{'Source': 'Internet Movie Database', 'Value': '7.6/10'}, {'Source': 'Rotten Tomatoes', 'Value': '89%'}, {'Source': 'Metacritic', 'Value': '79/100'}], 'Metascore': '79', 'imdbRating': '7.6', 'imdbVotes': '45,060', 'imdbID': 'tt0857191', 'Type': 'movie', 'DVD': 'N/A', 'BoxOffice': '$9,427,089', 'Production': 'N/A', 'Website': 'N/A', 'Response': 'True'}, {'Title': \"We're All Gonna Die (Even Jay Baruchel)\", 'Year': '2022–2024', 'Rated': 'N/A', 'Released': '30 Apr 2022', 'Runtime': 'N/A', 'Genre': 'Documentary', 'Director': 'N/A', 'Writer': 'N/A', 'Actors': 'Jay Baruchel, Hakeem Oluseyi, Nick Bostrom', 'Plot': 'Jay Baruchel meets his fascination with the apocalypse head-on, as he explores, from a place of genuine curiosity and wonder, various ways humanity could possibly meet its doom.', 'Language': 'English', 'Country': 'Canada', 'Awards': '4 wins total', 'Poster': 'https://m.media-amazon.com/images/M/MV5BNDRmYjM3ZTQtZDM1ZS00ZjgyLWEwOWUtYjM3MzE1YjdiZWU3XkEyXkFqcGc@._V1_SX300.jpg', 'Ratings': [{'Source': 'Internet Movie Database', 'Value': '7.3/10'}], 'Metascore': 'N/A', 'imdbRating': '7.3', 'imdbVotes': '108', 'imdbID': 'tt20318304', 'Type': 'series', 'totalSeasons': '1', 'Response': 'True'}, {'Title': 'F Marry Kill', 'Year': '2009', 'Rated': 'N/A', 'Released': 'N/A', 'Runtime': '8 min', 'Genre': 'Short, Comedy', 'Director': 'N/A', 'Writer': 'N/A', 'Actors': 'N/A', 'Plot': \"Two middle-aged fat guys play 'F Marry Kill'--talking about women and sex... like men talk... when women aren't around.\", 'Language': 'English', 'Country': 'USA', 'Awards': 'N/A', 'Poster': 'N/A', 'Ratings': [], 'Metascore': 'N/A', 'imdbRating': 'N/A', 'imdbVotes': 'N/A', 'imdbID': 'tt1504208', 'Type': 'movie', 'DVD': 'N/A', 'BoxOffice': 'N/A', 'Production': 'N/A', 'Website': 'N/A', 'Response': 'True'}, {'Title': 'The Wild', 'Year': '2006', 'Rated': 'G', 'Released': '14 Apr 2006', 'Runtime': '82 min', 'Genre': 'Animation, Adventure, Comedy', 'Director': \"Steve 'Spaz' Williams\", 'Writer': 'Ed Decter, John J. Strauss, Mark Gibson', 'Actors': 'Kiefer Sutherland, Jim Belushi, Eddie Izzard', 'Plot': 'An adolescent lion is accidentally shipped from the New York Zoo to Africa. Now running free, his zoo pals must put aside their differences to help bring him back.', 'Language': 'English', 'Country': 'Canada, United States', 'Awards': '2 nominations total', 'Poster': 'https://m.media-amazon.com/images/M/MV5BMTQ5ODgzNjQ3OF5BMl5BanBnXkFtZTcwNTYyMTQzMQ@@._V1_SX300.jpg', 'Ratings': [{'Source': 'Internet Movie Database', 'Value': '5.2/10'}, {'Source': 'Rotten Tomatoes', 'Value': '50%'}, {'Source': 'Metacritic', 'Value': '47/100'}], 'Metascore': '47', 'imdbRating': '5.2', 'imdbVotes': '28,399', 'imdbID': 'tt0405469', 'Type': 'movie', 'DVD': 'N/A', 'BoxOffice': '$37,384,046', 'Production': 'N/A', 'Website': 'N/A', 'Response': 'True'}, {'Title': 'The Way, My Way', 'Year': '2024', 'Rated': 'N/A', 'Released': '16 May 2024', 'Runtime': '98 min', 'Genre': 'Drama', 'Director': 'Bill Bennett', 'Writer': 'Bill Bennett', 'Actors': 'Chris Haywood, Jennifer Cluff, Laura Lakshmi', 'Plot': \"Based on the best selling Camino memoir, The Way, My Way, written by Bill Bennett, the film documents one man's journey along the Camino de Santiago, searching for meaning, not realizing it was right in front of him, one step at a...\", 'Language': 'English', 'Country': 'Australia', 'Awards': 'N/A', 'Poster': 'https://m.media-amazon.com/images/M/MV5BYmU3MjRkZDEtYjQ4Yi00NGE1LWEyMTktZGM1YTlhY2YwMzBmXkEyXkFqcGc@._V1_SX300.jpg', 'Ratings': [{'Source': 'Internet Movie Database', 'Value': '6.7/10'}], 'Metascore': 'N/A', 'imdbRating': '6.7', 'imdbVotes': '304', 'imdbID': 'tt29721337', 'Type': 'movie', 'DVD': 'N/A', 'BoxOffice': 'N/A', 'Production': 'N/A', 'Website': 'N/A', 'Response': 'True'}, {'Title': 'The Empire', 'Year': '2021–', 'Rated': 'N/A', 'Released': '27 Aug 2021', 'Runtime': '2 min', 'Genre': 'Action, Drama, History', 'Director': 'N/A', 'Writer': 'Nikkhil Advani', 'Actors': 'Vikky Kumar, Shabana Azmi, Kunal Kapoor', 'Plot': 'The series focuses on the rise and fall of Mughal Empire through generations from Babur to Aurangzeb.', 'Language': 'Hindi', 'Country': 'India', 'Awards': '5 wins & 14 nominations', 'Poster': 'https://m.media-amazon.com/images/M/MV5BODAyN2UzNjMtNGVmNi00YzM0LTk3MzYtNTY5MTVkOGI0MGE4XkEyXkFqcGc@._V1_SX300.jpg', 'Ratings': [{'Source': 'Internet Movie Database', 'Value': '4.7/10'}], 'Metascore': 'N/A', 'imdbRating': '4.7', 'imdbVotes': '17,309', 'imdbID': 'tt15012366', 'Type': 'series', 'totalSeasons': '1', 'Response': 'True'}, {'Title': 'Play It As It Lays', 'Year': '1972', 'Rated': 'R', 'Released': '07 Jun 1973', 'Runtime': '99 min', 'Genre': 'Drama', 'Director': 'Frank Perry', 'Writer': 'Joan Didion, John Gregory Dunne', 'Actors': 'Tuesday Weld, Anthony Perkins, Tammy Grimes', 'Plot': 'A Hollywood actress undergoes a psychic breakdown and recalls the traumatic events which led to her stay at a sanitarium.', 'Language': 'English', 'Country': 'United States', 'Awards': '1 win & 1 nomination', 'Poster': 'https://m.media-amazon.com/images/M/MV5BNjBhZmE5YzMtYjdkNS00OTUyLWI1YzktYWMzMmNiMmFmODFjXkEyXkFqcGc@._V1_SX300.jpg', 'Ratings': [{'Source': 'Internet Movie Database', 'Value': '6.4/10'}, {'Source': 'Rotten Tomatoes', 'Value': '50%'}], 'Metascore': 'N/A', 'imdbRating': '6.4', 'imdbVotes': '810', 'imdbID': 'tt0069098', 'Type': 'movie', 'DVD': 'N/A', 'BoxOffice': 'N/A', 'Production': 'N/A', 'Website': 'N/A', 'Response': 'True'}, {'Title': 'The Fetus', 'Year': '2013', 'Rated': 'N/A', 'Released': '30 Jun 2013', 'Runtime': 'N/A', 'Genre': 'Short', 'Director': 'John Chuka', 'Writer': 'N/A', 'Actors': 'Joseph Michael Daniel, Chris Degner, Jessica Garza', 'Plot': 'N/A', 'Language': 'English', 'Country': 'United States', 'Awards': 'N/A', 'Poster': 'N/A', 'Ratings': [], 'Metascore': 'N/A', 'imdbRating': 'N/A', 'imdbVotes': 'N/A', 'imdbID': 'tt3715404', 'Type': 'movie', 'DVD': 'N/A', 'BoxOffice': 'N/A', 'Production': 'N/A', 'Website': 'N/A', 'Response': 'True'}, {'Title': 'The Corpse', 'Year': '2003', 'Rated': 'N/A', 'Released': 'N/A', 'Runtime': '12 min', 'Genre': 'Horror, Short, Thriller', 'Director': 'Wilbur Scott', 'Writer': 'Timothy C. Arthur, Wilbur Scott', 'Actors': 'Timothy C. Arthur, Melissa H. Green, April Knapp, Wilbur Scott', 'Plot': 'A funeral home director will kill anyone who gets in his way, especially when they interrupt his favorite pastime: necrophilia.', 'Language': 'N/A', 'Country': 'N/A', 'Awards': 'N/A', 'Poster': 'N/A', 'Ratings': [{'Source': 'Internet Movie Database', 'Value': '8.0/10'}], 'Metascore': 'N/A', 'imdbRating': '8.0', 'imdbVotes': '6', 'imdbID': 'tt0370429', 'Type': 'movie', 'DVD': 'N/A', 'BoxOffice': 'N/A', 'Production': 'N/A', 'Website': 'N/A', 'Response': 'True'}, {'Title': 'A Match', 'Year': '2023', 'Rated': 'N/A', 'Released': '08 Sep 2023', 'Runtime': '104 min', 'Genre': 'Drama', 'Director': 'Jayant Digambar Somalkar', 'Writer': 'Jayant Digambar Somalkar', 'Actors': 'Nandini Chikte, Taranath Khiratkar, Sangita Sonekar', 'Plot': \"It explores the tradition of arranged marriage in rural India, where a girl's marriage overshadows the very sustenance of life. Narrated from the perspective of a young girl, Savita, it highlights the patriarchy rooted in society.\", 'Language': 'Marathi', 'Country': 'India', 'Awards': '13 wins & 7 nominations', 'Poster': 'https://m.media-amazon.com/images/M/MV5BMDIyNjdiNzItNWY0Mi00NGNjLWJmNTYtOTQzOGQ1OWMyYjg0XkEyXkFqcGc@._V1_SX300.jpg', 'Ratings': [], 'Metascore': 'N/A', 'imdbRating': 'N/A', 'imdbVotes': '69', 'imdbID': 'tt26248528', 'Type': 'movie', 'DVD': 'N/A', 'BoxOffice': 'N/A', 'Production': 'N/A', 'Website': 'N/A', 'Response': 'True'}, {'Title': 'You Burn Me', 'Year': '2024', 'Rated': 'N/A', 'Released': '03 Oct 2024', 'Runtime': '64 min', 'Genre': 'Drama', 'Director': 'Matías Piñeiro', 'Writer': 'Matías Piñeiro', 'Actors': 'Ana Cristina Barragán, Maria Inês Gonçalves, Agustina Muñoz', 'Plot': \"The poet Sappho encounters the nymph Britomartis by the sea. Tales claim Sappho leapt into the ocean out of heartbreak while Britomartis fell into the water escaping a man's pursuit. Together they reflect on the bittersweet pangs ...\", 'Language': 'English', 'Country': 'Spain, Argentina', 'Awards': '5 nominations', 'Poster': 'https://m.media-amazon.com/images/M/MV5BMjg0Yzk4ODctN2NhZS00NDRkLTkzNzQtYjM0NTZlYzhkMWNmXkEyXkFqcGc@._V1_SX300.jpg', 'Ratings': [], 'Metascore': 'N/A', 'imdbRating': 'N/A', 'imdbVotes': '34', 'imdbID': 'tt31018983', 'Type': 'movie', 'DVD': 'N/A', 'BoxOffice': 'N/A', 'Production': 'N/A', 'Website': 'N/A', 'Response': 'True'}]\n"
     ]
    }
   ],
   "source": [
    "#Fetch Movie Details Using OMDb API\n",
    "\n",
    "import requests\n",
    "\n",
    "## Fetch movie details using OMDb API\n",
    "def fetch_movie_details(title, api_key):\n",
    "    base_url = \"http://www.omdbapi.com/\"\n",
    "    params = {\n",
    "        \"t\": title,  # Movie title\n",
    "        \"apikey\": api_key\n",
    "    }\n",
    "    response = requests.get(base_url, params=params)\n",
    "\n",
    "    if response.status_code == 200:\n",
    "        return response.json()  # Return movie data as a dictionary\n",
    "    else:\n",
    "        print(f\"Failed to fetch data for {title}\")\n",
    "        return None\n",
    "\n",
    "# Test the function\n",
    "api_key = \"3cdc29ab\"\n",
    "movie_data = []\n",
    "for title in movie_titles:\n",
    "    details = fetch_movie_details(title, api_key)\n",
    "    if details and details.get(\"Response\") == \"True\": \n",
    "        movie_data.append(details)\n",
    "\n",
    "print(\"Fetched Movie Data:\", movie_data)"
   ]
  },
  {
   "cell_type": "markdown",
   "id": "a45f7aba-aaa3-4ac9-9e1b-54b0e2446873",
   "metadata": {},
   "source": [
    "### Transforming the data"
   ]
  },
  {
   "cell_type": "code",
   "execution_count": 11,
   "id": "ec5519b1-d5e6-4e40-bb3d-48e093d54869",
   "metadata": {},
   "outputs": [
    {
     "name": "stdout",
     "output_type": "stream",
     "text": [
      "Transformed Movie Data: [{'Title': 'Last Breath', 'Release Date': '2019-05-07', 'Genres': ['documentary'], 'IMDb Rating': 7.7, 'Actors': 'Duncan Allcock, Kjetil Ove Alvestad, Stuart Anderson', 'Box Office': 0, 'Awards': 0, 'Metascore': 0.61, 'Language': 'english', 'Production': 'NA'}, {'Title': 'Superboys Of Malegaon', 'Release Date': 'Unknown', 'Genres': ['n/a'], 'IMDb Rating': None, 'Actors': 'Adarsh Gourav, Vineet Kumar Singh, Shashank Arora', 'Box Office': 0, 'Awards': 0, 'Metascore': None, 'Language': 'n/a', 'Production': 'NA'}, {'Title': 'The Monkey', 'Release Date': '2025-02-21', 'Genres': ['horror'], 'IMDb Rating': 7.0, 'Actors': 'Theo James, Tatiana Maslany, Christian Convery', 'Box Office': 0, 'Awards': 0, 'Metascore': 0.67, 'Language': 'english', 'Production': 'NA'}, {'Title': 'Purple Rain', 'Release Date': '1984-07-27', 'Genres': ['drama', 'romance', 'music'], 'IMDb Rating': 6.5, 'Actors': 'Prince, Apollonia Kotero, Morris Day', 'Box Office': 70261052, 'Awards': 14, 'Metascore': 0.55, 'Language': 'english', 'Production': 'NA'}, {'Title': 'Vietnam, My Motherland', 'Release Date': 'Unknown', 'Genres': ['n/a'], 'IMDb Rating': None, 'Actors': 'Lom Tom', 'Box Office': 0, 'Awards': 0, 'Metascore': None, 'Language': 'n/a', 'Production': 'NA'}, {'Title': 'Mickey 17', 'Release Date': '2025-03-07', 'Genres': ['comedy', 'fantasy', 'adventure'], 'IMDb Rating': 7.3, 'Actors': 'Robert Pattinson, Steven Yeun, Michael Monroe', 'Box Office': 0, 'Awards': 0, 'Metascore': 0.75, 'Language': 'english', 'Production': 'NA'}, {'Title': 'In The Lost Lands', 'Release Date': '2025-03-07', 'Genres': ['fantasy', 'action', 'adventure'], 'IMDb Rating': 5.4, 'Actors': 'Milla Jovovich, Dave Bautista, Arly Jover', 'Box Office': 0, 'Awards': 0, 'Metascore': 0.37, 'Language': 'english', 'Production': 'NA'}, {'Title': 'Rule Breakers', 'Release Date': 'Unknown', 'Genres': ['drama'], 'IMDb Rating': None, 'Actors': 'Phoebe Waller-Bridge, Ali Fazal, Fahim Fazli', 'Box Office': 0, 'Awards': 1, 'Metascore': None, 'Language': 'english', 'Production': 'NA'}, {'Title': 'Queen Of The Ring', 'Release Date': '2024-10-15', 'Genres': ['biography', 'drama', 'sport'], 'IMDb Rating': 8.8, 'Actors': 'Emily Bett Rickards, Josh Lucas, Tyler Posey', 'Box Office': 0, 'Awards': 3, 'Metascore': None, 'Language': 'english', 'Production': 'NA'}, {'Title': 'The Rule Of Jenny Pen', 'Release Date': '2024-09-19', 'Genres': ['thriller'], 'IMDb Rating': None, 'Actors': 'John Lithgow, Geoffrey Rush, Nathaniel Lees', 'Box Office': 0, 'Awards': 0, 'Metascore': None, 'Language': 'n/a', 'Production': 'NA'}, {'Title': 'Night Of The Zoopocalypse', 'Release Date': '2025-03-07', 'Genres': ['comedy', 'animation', 'adventure'], 'IMDb Rating': 6.3, 'Actors': 'David Harbour, Bryn McAuley, Paul Sun-Hyung Lee', 'Box Office': 0, 'Awards': 1, 'Metascore': None, 'Language': 'english', 'Production': 'NA'}, {'Title': 'Seven Veils', 'Release Date': '2025-03-20', 'Genres': ['drama'], 'IMDb Rating': 6.7, 'Actors': \"Amanda Seyfried, Douglas Smith, Mark O'Brien\", 'Box Office': 0, 'Awards': 4, 'Metascore': None, 'Language': 'english', 'Production': 'NA'}, {'Title': 'On Becoming A Guinea Fowl', 'Release Date': '2024-10-03', 'Genres': ['comedy', 'drama'], 'IMDb Rating': 6.7, 'Actors': 'Susan Chardy, Roy Chisha, Blessings Bhamjee', 'Box Office': 0, 'Awards': 4, 'Metascore': None, 'Language': 'english, bemba', 'Production': 'NA'}, {'Title': 'Bloat', 'Release Date': '2025-03-07', 'Genres': ['horror'], 'IMDb Rating': None, 'Actors': 'Ben McKenzie, Bojana Novakovic, Sawyer Jones', 'Box Office': 0, 'Awards': 0, 'Metascore': None, 'Language': 'english, japanese', 'Production': 'NA'}, {'Title': \"There's Still Tomorrow\", 'Release Date': '2023-10-26', 'Genres': ['comedy', 'drama'], 'IMDb Rating': 7.7, 'Actors': 'Paola Cortellesi, Valerio Mastandrea, Romana Maggiora Vergano', 'Box Office': 0, 'Awards': 42, 'Metascore': None, 'Language': 'italian, english', 'Production': 'NA'}, {'Title': 'Eephus', 'Release Date': '2025-01-01', 'Genres': ['comedy', 'drama'], 'IMDb Rating': None, 'Actors': 'Frederick Wiseman, Bill Lee, Keith William Richards', 'Box Office': 0, 'Awards': 10, 'Metascore': 0.8, 'Language': 'english', 'Production': 'NA'}, {'Title': 'The Lost Daughter', 'Release Date': '2021-12-31', 'Genres': ['drama'], 'IMDb Rating': 6.7, 'Actors': 'Olivia Colman, Jessie Buckley, Dakota Johnson', 'Box Office': 0, 'Awards': 158, 'Metascore': 0.86, 'Language': 'english, italian, greek', 'Production': 'NA'}, {'Title': 'Guns Of Redemption', 'Release Date': '2025-03-07', 'Genres': ['western'], 'IMDb Rating': None, 'Actors': 'Casper Van Dien, Kaitlyn Kemp, Siena Bjornerud', 'Box Office': 0, 'Awards': 0, 'Metascore': None, 'Language': 'english', 'Production': 'NA'}, {'Title': 'The Visitor', 'Release Date': '2008-05-23', 'Genres': ['drama'], 'IMDb Rating': 7.6, 'Actors': 'Richard Jenkins, Haaz Sleiman, Danai Gurira', 'Box Office': 9427089, 'Awards': 55, 'Metascore': 0.79, 'Language': 'english, french, arabic, romanian', 'Production': 'NA'}, {'Title': \"We're All Gonna Die (even Jay Baruchel)\", 'Release Date': '2022-04-30', 'Genres': ['documentary'], 'IMDb Rating': 7.3, 'Actors': 'Jay Baruchel, Hakeem Oluseyi, Nick Bostrom', 'Box Office': 0, 'Awards': 4, 'Metascore': None, 'Language': 'english', 'Production': 'Independent'}, {'Title': 'F Marry Kill', 'Release Date': 'Unknown', 'Genres': ['comedy', 'short'], 'IMDb Rating': None, 'Actors': 'N/A', 'Box Office': 0, 'Awards': 0, 'Metascore': None, 'Language': 'english', 'Production': 'NA'}, {'Title': 'The Wild', 'Release Date': '2006-04-14', 'Genres': ['comedy', 'animation', 'adventure'], 'IMDb Rating': 5.2, 'Actors': 'Kiefer Sutherland, Jim Belushi, Eddie Izzard', 'Box Office': 37384046, 'Awards': 2, 'Metascore': 0.47, 'Language': 'english', 'Production': 'NA'}, {'Title': 'The Way, My Way', 'Release Date': '2024-05-16', 'Genres': ['drama'], 'IMDb Rating': 6.7, 'Actors': 'Chris Haywood, Jennifer Cluff, Laura Lakshmi', 'Box Office': 0, 'Awards': 0, 'Metascore': None, 'Language': 'english', 'Production': 'NA'}, {'Title': 'The Empire', 'Release Date': '2021-08-27', 'Genres': ['history', 'drama', 'action'], 'IMDb Rating': 4.7, 'Actors': 'Vikky Kumar, Shabana Azmi, Kunal Kapoor', 'Box Office': 0, 'Awards': 19, 'Metascore': None, 'Language': 'hindi', 'Production': 'Independent'}, {'Title': 'Play It As It Lays', 'Release Date': '1973-06-07', 'Genres': ['drama'], 'IMDb Rating': 6.4, 'Actors': 'Tuesday Weld, Anthony Perkins, Tammy Grimes', 'Box Office': 0, 'Awards': 2, 'Metascore': None, 'Language': 'english', 'Production': 'NA'}, {'Title': 'The Fetus', 'Release Date': '2013-06-30', 'Genres': ['short'], 'IMDb Rating': None, 'Actors': 'Joseph Michael Daniel, Chris Degner, Jessica Garza', 'Box Office': 0, 'Awards': 0, 'Metascore': None, 'Language': 'english', 'Production': 'NA'}, {'Title': 'The Corpse', 'Release Date': 'Unknown', 'Genres': ['horror', 'short', 'thriller'], 'IMDb Rating': 8.0, 'Actors': 'Timothy C. Arthur, Melissa H. Green, April Knapp', 'Box Office': 0, 'Awards': 0, 'Metascore': None, 'Language': 'n/a', 'Production': 'NA'}, {'Title': 'A Match', 'Release Date': '2023-09-08', 'Genres': ['drama'], 'IMDb Rating': None, 'Actors': 'Nandini Chikte, Taranath Khiratkar, Sangita Sonekar', 'Box Office': 0, 'Awards': 20, 'Metascore': None, 'Language': 'marathi', 'Production': 'NA'}, {'Title': 'You Burn Me', 'Release Date': '2024-10-03', 'Genres': ['drama'], 'IMDb Rating': None, 'Actors': 'Ana Cristina Barragán, Maria Inês Gonçalves, Agustina Muñoz', 'Box Office': 0, 'Awards': 5, 'Metascore': None, 'Language': 'english', 'Production': 'NA'}]\n"
     ]
    }
   ],
   "source": [
    "import pandas as pd\n",
    "\n",
    "# Transform the data\n",
    "\n",
    "def transform_movie_data(movie_data):\n",
    "    transformed_data = []\n",
    "\n",
    "    for movie in movie_data:\n",
    "        # Title Transformation\n",
    "        title = movie.get(\"Title\", \"\").strip()\n",
    "        title = \" \".join(word.capitalize() for word in title.split())  # Title Case\n",
    "\n",
    "        # Release Date Transformation\n",
    "        release_date = movie.get(\"Released\", \"Unknown\")\n",
    "        if release_date != \"N/A\":\n",
    "            release_date = pd.to_datetime(release_date).strftime(\"%Y-%m-%d\")  # Standardize date format\n",
    "        else:\n",
    "            release_date = \"Unknown\"\n",
    "\n",
    "        # Genre Transformation\n",
    "        genres = movie.get(\"Genre\", \"\").lower().split(\", \")  # Convert to lowercase and split\n",
    "        genres = list(set(genres))  # Remove duplicates\n",
    "\n",
    "        # IMDb Rating Transformation\n",
    "        imdb_rating = movie.get(\"imdbRating\", \"N/A\")\n",
    "        if imdb_rating != \"N/A\":\n",
    "            imdb_rating = round(float(imdb_rating), 1)  # Round to one decimal place\n",
    "        else:\n",
    "            imdb_rating = None\n",
    "\n",
    "        # Actors Transformation\n",
    "        actors = movie.get(\"Actors\", \"\").split(\", \")[:3]  # Limit to top 3 actors\n",
    "        actors = \", \".join(actors)  # Join into a single string\n",
    "\n",
    "        # Box Office Transformation\n",
    "        box_office = movie.get(\"BoxOffice\", \"N/A\")\n",
    "        if box_office != \"N/A\":\n",
    "            box_office = int(box_office.replace(\"$\", \"\").replace(\",\", \"\"))  # Remove $ and commas\n",
    "        else:\n",
    "            box_office = 0\n",
    "\n",
    "        # Awards Transformation\n",
    "        awards = movie.get(\"Awards\", \"N/A\")\n",
    "        if awards != \"N/A\":\n",
    "            awards = sum(int(word) for word in awards.split() if word.isdigit())  # Sum all numbers\n",
    "        else:\n",
    "            awards = 0\n",
    "\n",
    "        # Metascore Transformation\n",
    "        metascore = movie.get(\"Metascore\", \"N/A\")\n",
    "        if metascore != \"N/A\":\n",
    "            metascore = int(metascore) / 100  # Normalize to 0-1 scale\n",
    "        else:\n",
    "            metascore = None\n",
    "\n",
    "        # Language Transformation\n",
    "        language = movie.get(\"Language\", \"Unknown\").lower()\n",
    "\n",
    "        # Production Transformation\n",
    "        production = movie.get(\"Production\", \"Independent\")\n",
    "        production = \"\".join(e for e in production if e.isalnum() or e.isspace())  # Remove special characters\n",
    "\n",
    "        # Add transformed data to the list\n",
    "        transformed_data.append({\n",
    "            \"Title\": title,\n",
    "            \"Release Date\": release_date,\n",
    "            \"Genres\": genres,\n",
    "            \"IMDb Rating\": imdb_rating,\n",
    "            \"Actors\": actors,\n",
    "            \"Box Office\": box_office,\n",
    "            \"Awards\": awards,\n",
    "            \"Metascore\": metascore,\n",
    "            \"Language\": language,\n",
    "            \"Production\": production\n",
    "        })\n",
    "\n",
    "    return transformed_data\n",
    "\n",
    "# Test the function\n",
    "transformed_data = transform_movie_data(movie_data)\n",
    "print(\"Transformed Movie Data:\", transformed_data)"
   ]
  },
  {
   "cell_type": "markdown",
   "id": "ff6e94fd-6ff7-47b5-8ca8-17f9796616d4",
   "metadata": {},
   "source": [
    "### Loading the data"
   ]
  },
  {
   "cell_type": "code",
   "execution_count": 12,
   "id": "b7ba819e-9cf5-4b89-9f8c-98919b773416",
   "metadata": {},
   "outputs": [
    {
     "name": "stdout",
     "output_type": "stream",
     "text": [
      "Data saved to transformed_movie_data.csv\n"
     ]
    }
   ],
   "source": [
    "import pandas as pd\n",
    "# save to CSV\n",
    "# Convert transformed data to a DataFrame\n",
    "df = pd.DataFrame(transformed_data)\n",
    "\n",
    "# Save to CSV\n",
    "df.to_csv(\"transformed_movie_data.csv\", index=False)\n",
    "print(\"Data saved to transformed_movie_data.csv\")"
   ]
  },
  {
   "cell_type": "code",
   "execution_count": 14,
   "id": "6a42e13e-27a2-46d8-9e43-7d1e4d7d8703",
   "metadata": {},
   "outputs": [
    {
     "name": "stdout",
     "output_type": "stream",
     "text": [
      "PDF report saved to movie_report.pdf\n"
     ]
    }
   ],
   "source": [
    "# Save to PDF\n",
    "from fpdf import FPDF\n",
    "\n",
    "# Create a PDF report\n",
    "pdf = FPDF()\n",
    "pdf.add_page()\n",
    "pdf.set_font(\"Arial\", size=12)\n",
    "\n",
    "# Add a title\n",
    "pdf.cell(200, 10, txt=\"Movie Data Report\", ln=True, align=\"C\")\n",
    "\n",
    "# Add movie data\n",
    "for movie in transformed_data:\n",
    "    pdf.cell(200, 10, txt=f\"Title: {movie['Title']}\", ln=True)\n",
    "    pdf.cell(200, 10, txt=f\"Release Date: {movie['Release Date']}\", ln=True)\n",
    "    pdf.cell(200, 10, txt=f\"Genres: {', '.join(movie['Genres'])}\", ln=True)\n",
    "    pdf.cell(200, 10, txt=f\"IMDb Rating: {movie['IMDb Rating']}\", ln=True)\n",
    "    pdf.cell(200, 10, txt=f\"Actors: {movie['Actors']}\", ln=True)\n",
    "    pdf.cell(200, 10, txt=f\"Box Office: ${movie['Box Office']:,}\", ln=True)\n",
    "    pdf.cell(200, 10, txt=f\"Awards: {movie['Awards']}\", ln=True)\n",
    "    pdf.cell(200, 10, txt=f\"Metascore: {movie['Metascore']}\", ln=True)\n",
    "    pdf.cell(200, 10, txt=f\"Language: {movie['Language']}\", ln=True)\n",
    "    pdf.cell(200, 10, txt=f\"Production: {movie['Production']}\", ln=True)\n",
    "    pdf.cell(200, 10, txt=\"-\" * 50, ln=True)  # Separator\n",
    "\n",
    "# Save the PDF\n",
    "pdf.output(\"movie_report.pdf\")\n",
    "print(\"PDF report saved to movie_report.pdf\")"
   ]
  },
  {
   "cell_type": "code",
   "execution_count": 15,
   "id": "680f5bba-3122-4ab1-b603-e31239868fcf",
   "metadata": {},
   "outputs": [
    {
     "data": {
      "text/html": [
       "<div>\n",
       "<style scoped>\n",
       "    .dataframe tbody tr th:only-of-type {\n",
       "        vertical-align: middle;\n",
       "    }\n",
       "\n",
       "    .dataframe tbody tr th {\n",
       "        vertical-align: top;\n",
       "    }\n",
       "\n",
       "    .dataframe thead th {\n",
       "        text-align: right;\n",
       "    }\n",
       "</style>\n",
       "<table border=\"1\" class=\"dataframe\">\n",
       "  <thead>\n",
       "    <tr style=\"text-align: right;\">\n",
       "      <th></th>\n",
       "      <th>Title</th>\n",
       "      <th>Release Date</th>\n",
       "      <th>Genres</th>\n",
       "      <th>IMDb Rating</th>\n",
       "      <th>Actors</th>\n",
       "      <th>Box Office</th>\n",
       "      <th>Awards</th>\n",
       "      <th>Metascore</th>\n",
       "      <th>Language</th>\n",
       "      <th>Production</th>\n",
       "    </tr>\n",
       "  </thead>\n",
       "  <tbody>\n",
       "    <tr>\n",
       "      <th>0</th>\n",
       "      <td>Last Breath</td>\n",
       "      <td>2019-05-07</td>\n",
       "      <td>['documentary']</td>\n",
       "      <td>7.7</td>\n",
       "      <td>Duncan Allcock, Kjetil Ove Alvestad, Stuart An...</td>\n",
       "      <td>0</td>\n",
       "      <td>0</td>\n",
       "      <td>0.61</td>\n",
       "      <td>english</td>\n",
       "      <td>NaN</td>\n",
       "    </tr>\n",
       "    <tr>\n",
       "      <th>1</th>\n",
       "      <td>Superboys Of Malegaon</td>\n",
       "      <td>Unknown</td>\n",
       "      <td>['n/a']</td>\n",
       "      <td>NaN</td>\n",
       "      <td>Adarsh Gourav, Vineet Kumar Singh, Shashank Arora</td>\n",
       "      <td>0</td>\n",
       "      <td>0</td>\n",
       "      <td>NaN</td>\n",
       "      <td>NaN</td>\n",
       "      <td>NaN</td>\n",
       "    </tr>\n",
       "    <tr>\n",
       "      <th>2</th>\n",
       "      <td>The Monkey</td>\n",
       "      <td>2025-02-21</td>\n",
       "      <td>['horror']</td>\n",
       "      <td>7.0</td>\n",
       "      <td>Theo James, Tatiana Maslany, Christian Convery</td>\n",
       "      <td>0</td>\n",
       "      <td>0</td>\n",
       "      <td>0.67</td>\n",
       "      <td>english</td>\n",
       "      <td>NaN</td>\n",
       "    </tr>\n",
       "    <tr>\n",
       "      <th>3</th>\n",
       "      <td>Purple Rain</td>\n",
       "      <td>1984-07-27</td>\n",
       "      <td>['drama', 'romance', 'music']</td>\n",
       "      <td>6.5</td>\n",
       "      <td>Prince, Apollonia Kotero, Morris Day</td>\n",
       "      <td>70261052</td>\n",
       "      <td>14</td>\n",
       "      <td>0.55</td>\n",
       "      <td>english</td>\n",
       "      <td>NaN</td>\n",
       "    </tr>\n",
       "    <tr>\n",
       "      <th>4</th>\n",
       "      <td>Vietnam, My Motherland</td>\n",
       "      <td>Unknown</td>\n",
       "      <td>['n/a']</td>\n",
       "      <td>NaN</td>\n",
       "      <td>Lom Tom</td>\n",
       "      <td>0</td>\n",
       "      <td>0</td>\n",
       "      <td>NaN</td>\n",
       "      <td>NaN</td>\n",
       "      <td>NaN</td>\n",
       "    </tr>\n",
       "  </tbody>\n",
       "</table>\n",
       "</div>"
      ],
      "text/plain": [
       "                    Title Release Date                         Genres  \\\n",
       "0             Last Breath   2019-05-07                ['documentary']   \n",
       "1   Superboys Of Malegaon      Unknown                        ['n/a']   \n",
       "2              The Monkey   2025-02-21                     ['horror']   \n",
       "3             Purple Rain   1984-07-27  ['drama', 'romance', 'music']   \n",
       "4  Vietnam, My Motherland      Unknown                        ['n/a']   \n",
       "\n",
       "   IMDb Rating                                             Actors  Box Office  \\\n",
       "0          7.7  Duncan Allcock, Kjetil Ove Alvestad, Stuart An...           0   \n",
       "1          NaN  Adarsh Gourav, Vineet Kumar Singh, Shashank Arora           0   \n",
       "2          7.0     Theo James, Tatiana Maslany, Christian Convery           0   \n",
       "3          6.5               Prince, Apollonia Kotero, Morris Day    70261052   \n",
       "4          NaN                                            Lom Tom           0   \n",
       "\n",
       "   Awards  Metascore Language Production  \n",
       "0       0       0.61  english        NaN  \n",
       "1       0        NaN      NaN        NaN  \n",
       "2       0       0.67  english        NaN  \n",
       "3      14       0.55  english        NaN  \n",
       "4       0        NaN      NaN        NaN  "
      ]
     },
     "execution_count": 15,
     "metadata": {},
     "output_type": "execute_result"
    }
   ],
   "source": [
    "import pandas as pd\n",
    "\n",
    "# Load the CSV file\n",
    "df = pd.read_csv(\"transformed_movie_data.csv\")\n",
    "\n",
    "# Display the first few rows\n",
    "df.head()"
   ]
  },
  {
   "cell_type": "code",
   "execution_count": null,
   "id": "47221f1f-d3c2-4810-9ffe-80451e411082",
   "metadata": {},
   "outputs": [],
   "source": []
  }
 ],
 "metadata": {
  "kernelspec": {
   "display_name": "Python 3 (ipykernel)",
   "language": "python",
   "name": "python3"
  },
  "language_info": {
   "codemirror_mode": {
    "name": "ipython",
    "version": 3
   },
   "file_extension": ".py",
   "mimetype": "text/x-python",
   "name": "python",
   "nbconvert_exporter": "python",
   "pygments_lexer": "ipython3",
   "version": "3.12.7"
  }
 },
 "nbformat": 4,
 "nbformat_minor": 5
}
